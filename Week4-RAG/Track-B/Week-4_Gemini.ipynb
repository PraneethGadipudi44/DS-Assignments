{
 "cells": [
  {
   "cell_type": "markdown",
   "id": "Bg19X1WAJMZl",
   "metadata": {
    "id": "Bg19X1WAJMZl"
   },
   "source": [
    "# CS 5588 — RAG with LangChain, Chroma, and Gemini Free API\n"
   ]
  },
  {
   "cell_type": "markdown",
   "id": "vXXPO6B1JMZp",
   "metadata": {
    "id": "vXXPO6B1JMZp"
   },
   "source": [
    "### 1) Install"
   ]
  },
  {
   "cell_type": "code",
   "execution_count": 1,
   "id": "m9YoIX3oJMZp",
   "metadata": {},
   "outputs": [
    {
     "name": "stdout",
     "output_type": "stream",
     "text": [
      "\u001b[2K     \u001b[90m━━━━━━━━━━━━━━━━━━━━━━━━━━━━━━━━━━━━━━━━\u001b[0m \u001b[32m43.6/43.6 kB\u001b[0m \u001b[31m1.5 MB/s\u001b[0m eta \u001b[36m0:00:00\u001b[0m\n",
      "\u001b[2K     \u001b[90m━━━━━━━━━━━━━━━━━━━━━━━━━━━━━━━━━━━━━━━━\u001b[0m \u001b[32m67.3/67.3 kB\u001b[0m \u001b[31m2.5 MB/s\u001b[0m eta \u001b[36m0:00:00\u001b[0m\n",
      "\u001b[?25h  Installing build dependencies ... \u001b[?25l\u001b[?25hdone\n",
      "  Getting requirements to build wheel ... \u001b[?25l\u001b[?25hdone\n",
      "  Preparing metadata (pyproject.toml) ... \u001b[?25l\u001b[?25hdone\n",
      "\u001b[2K   \u001b[90m━━━━━━━━━━━━━━━━━━━━━━━━━━━━━━━━━━━━━━━━\u001b[0m \u001b[32m2.5/2.5 MB\u001b[0m \u001b[31m33.4 MB/s\u001b[0m eta \u001b[36m0:00:00\u001b[0m\n",
      "\u001b[2K   \u001b[90m━━━━━━━━━━━━━━━━━━━━━━━━━━━━━━━━━━━━━━━━\u001b[0m \u001b[32m19.8/19.8 MB\u001b[0m \u001b[31m65.3 MB/s\u001b[0m eta \u001b[36m0:00:00\u001b[0m\n",
      "\u001b[2K   \u001b[90m━━━━━━━━━━━━━━━━━━━━━━━━━━━━━━━━━━━━━━━━\u001b[0m \u001b[32m310.5/310.5 kB\u001b[0m \u001b[31m19.0 MB/s\u001b[0m eta \u001b[36m0:00:00\u001b[0m\n",
      "\u001b[2K   \u001b[90m━━━━━━━━━━━━━━━━━━━━━━━━━━━━━━━━━━━━━━━━\u001b[0m \u001b[32m50.7/50.7 kB\u001b[0m \u001b[31m3.6 MB/s\u001b[0m eta \u001b[36m0:00:00\u001b[0m\n",
      "\u001b[2K   \u001b[90m━━━━━━━━━━━━━━━━━━━━━━━━━━━━━━━━━━━━━━━━\u001b[0m \u001b[32m245.6/245.6 kB\u001b[0m \u001b[31m15.0 MB/s\u001b[0m eta \u001b[36m0:00:00\u001b[0m\n",
      "\u001b[2K   \u001b[90m━━━━━━━━━━━━━━━━━━━━━━━━━━━━━━━━━━━━━━━━\u001b[0m \u001b[32m284.2/284.2 kB\u001b[0m \u001b[31m19.1 MB/s\u001b[0m eta \u001b[36m0:00:00\u001b[0m\n",
      "\u001b[2K   \u001b[90m━━━━━━━━━━━━━━━━━━━━━━━━━━━━━━━━━━━━━━━━\u001b[0m \u001b[32m1.4/1.4 MB\u001b[0m \u001b[31m57.5 MB/s\u001b[0m eta \u001b[36m0:00:00\u001b[0m\n",
      "\u001b[2K   \u001b[90m━━━━━━━━━━━━━━━━━━━━━━━━━━━━━━━━━━━━━━━━\u001b[0m \u001b[32m1.9/1.9 MB\u001b[0m \u001b[31m62.6 MB/s\u001b[0m eta \u001b[36m0:00:00\u001b[0m\n",
      "\u001b[2K   \u001b[90m━━━━━━━━━━━━━━━━━━━━━━━━━━━━━━━━━━━━━━━━\u001b[0m \u001b[32m103.3/103.3 kB\u001b[0m \u001b[31m7.6 MB/s\u001b[0m eta \u001b[36m0:00:00\u001b[0m\n",
      "\u001b[2K   \u001b[90m━━━━━━━━━━━━━━━━━━━━━━━━━━━━━━━━━━━━━━━━\u001b[0m \u001b[32m16.5/16.5 MB\u001b[0m \u001b[31m81.2 MB/s\u001b[0m eta \u001b[36m0:00:00\u001b[0m\n",
      "\u001b[2K   \u001b[90m━━━━━━━━━━━━━━━━━━━━━━━━━━━━━━━━━━━━━━━━\u001b[0m \u001b[32m72.5/72.5 kB\u001b[0m \u001b[31m4.7 MB/s\u001b[0m eta \u001b[36m0:00:00\u001b[0m\n",
      "\u001b[2K   \u001b[90m━━━━━━━━━━━━━━━━━━━━━━━━━━━━━━━━━━━━━━━━\u001b[0m \u001b[32m131.9/131.9 kB\u001b[0m \u001b[31m6.4 MB/s\u001b[0m eta \u001b[36m0:00:00\u001b[0m\n",
      "\u001b[2K   \u001b[90m━━━━━━━━━━━━━━━━━━━━━━━━━━━━━━━━━━━━━━━━\u001b[0m \u001b[32m65.7/65.7 kB\u001b[0m \u001b[31m4.7 MB/s\u001b[0m eta \u001b[36m0:00:00\u001b[0m\n",
      "\u001b[2K   \u001b[90m━━━━━━━━━━━━━━━━━━━━━━━━━━━━━━━━━━━━━━━━\u001b[0m \u001b[32m208.0/208.0 kB\u001b[0m \u001b[31m16.6 MB/s\u001b[0m eta \u001b[36m0:00:00\u001b[0m\n",
      "\u001b[2K   \u001b[90m━━━━━━━━━━━━━━━━━━━━━━━━━━━━━━━━━━━━━━━━\u001b[0m \u001b[32m105.4/105.4 kB\u001b[0m \u001b[31m6.8 MB/s\u001b[0m eta \u001b[36m0:00:00\u001b[0m\n",
      "\u001b[2K   \u001b[90m━━━━━━━━━━━━━━━━━━━━━━━━━━━━━━━━━━━━━━━━\u001b[0m \u001b[32m71.6/71.6 kB\u001b[0m \u001b[31m4.8 MB/s\u001b[0m eta \u001b[36m0:00:00\u001b[0m\n",
      "\u001b[2K   \u001b[90m━━━━━━━━━━━━━━━━━━━━━━━━━━━━━━━━━━━━━━━━\u001b[0m \u001b[32m64.7/64.7 kB\u001b[0m \u001b[31m4.3 MB/s\u001b[0m eta \u001b[36m0:00:00\u001b[0m\n",
      "\u001b[2K   \u001b[90m━━━━━━━━━━━━━━━━━━━━━━━━━━━━━━━━━━━━━━━━\u001b[0m \u001b[32m510.8/510.8 kB\u001b[0m \u001b[31m27.7 MB/s\u001b[0m eta \u001b[36m0:00:00\u001b[0m\n",
      "\u001b[2K   \u001b[90m━━━━━━━━━━━━━━━━━━━━━━━━━━━━━━━━━━━━━━━━\u001b[0m \u001b[32m50.9/50.9 kB\u001b[0m \u001b[31m3.3 MB/s\u001b[0m eta \u001b[36m0:00:00\u001b[0m\n",
      "\u001b[2K   \u001b[90m━━━━━━━━━━━━━━━━━━━━━━━━━━━━━━━━━━━━━━━━\u001b[0m \u001b[32m4.7/4.7 MB\u001b[0m \u001b[31m89.9 MB/s\u001b[0m eta \u001b[36m0:00:00\u001b[0m\n",
      "\u001b[2K   \u001b[90m━━━━━━━━━━━━━━━━━━━━━━━━━━━━━━━━━━━━━━━━\u001b[0m \u001b[32m452.2/452.2 kB\u001b[0m \u001b[31m26.8 MB/s\u001b[0m eta \u001b[36m0:00:00\u001b[0m\n",
      "\u001b[2K   \u001b[90m━━━━━━━━━━━━━━━━━━━━━━━━━━━━━━━━━━━━━━━━\u001b[0m \u001b[32m46.0/46.0 kB\u001b[0m \u001b[31m3.0 MB/s\u001b[0m eta \u001b[36m0:00:00\u001b[0m\n",
      "\u001b[2K   \u001b[90m━━━━━━━━━━━━━━━━━━━━━━━━━━━━━━━━━━━━━━━━\u001b[0m \u001b[32m86.8/86.8 kB\u001b[0m \u001b[31m6.1 MB/s\u001b[0m eta \u001b[36m0:00:00\u001b[0m\n",
      "\u001b[?25h  Building wheel for pypika (pyproject.toml) ... \u001b[?25l\u001b[?25hdone\n",
      "\u001b[31mERROR: pip's dependency resolver does not currently take into account all the packages that are installed. This behaviour is the source of the following dependency conflicts.\n",
      "google-colab 1.0.0 requires requests==2.32.4, but you have requests 2.32.5 which is incompatible.\n",
      "google-generativeai 0.8.5 requires google-ai-generativelanguage==0.6.15, but you have google-ai-generativelanguage 0.7.0 which is incompatible.\u001b[0m\u001b[31m\n",
      "\u001b[0mIf upgraded core libs, consider restarting runtime.\n"
     ]
    }
   ],
   "source": [
    "\n",
    "!pip -q install -U langchain langchain-community chromadb pypdf             sentence-transformers transformers tiktoken             langchain-google-genai google-genai\n",
    "print(\"If upgraded core libs, consider restarting runtime.\")\n"
   ]
  },
  {
   "cell_type": "markdown",
   "id": "jgZxoCBmJMZr",
   "metadata": {
    "id": "jgZxoCBmJMZr"
   },
   "source": [
    "### 2) Keys & Imports"
   ]
  },
  {
   "cell_type": "code",
   "execution_count": 2,
   "id": "nUVU0moDJMZr",
   "metadata": {},
   "outputs": [
    {
     "name": "stdout",
     "output_type": "stream",
     "text": [
      "Enter your GEMINI_API_KEY: ··········\n",
      "Env ready.\n"
     ]
    }
   ],
   "source": [
    "\n",
    "import os, getpass, json, sys, platform, pathlib, datetime, importlib\n",
    "if not os.getenv(\"GEMINI_API_KEY\"):\n",
    "    os.environ[\"GEMINI_API_KEY\"] = getpass.getpass(\"Enter your GEMINI_API_KEY: \")\n",
    "os.environ[\"GOOGLE_API_KEY\"] = os.environ.get(\"GOOGLE_API_KEY\", os.environ[\"GEMINI_API_KEY\"])\n",
    "\n",
    "from google import genai\n",
    "from langchain.text_splitter import RecursiveCharacterTextSplitter\n",
    "from langchain_community.document_loaders import PyPDFLoader, TextLoader\n",
    "from langchain_community.vectorstores import Chroma\n",
    "from langchain_community.embeddings import SentenceTransformerEmbeddings\n",
    "from langchain_google_genai import ChatGoogleGenerativeAI, GoogleGenerativeAIEmbeddings\n",
    "from langchain.chains import RetrievalQA\n",
    "\n",
    "pathlib.Path(\"data\").mkdir(exist_ok=True)\n",
    "pathlib.Path(\"artifacts\").mkdir(exist_ok=True)\n",
    "print(\"Env ready.\")\n"
   ]
  },
  {
   "cell_type": "markdown",
   "id": "xIdbFMDIJMZs",
   "metadata": {
    "id": "xIdbFMDIJMZs"
   },
   "source": [
    "### 3) Log environment → env_rag.json"
   ]
  },
  {
   "cell_type": "code",
   "execution_count": 3,
   "id": "64sBOeGxJMZt",
   "metadata": {},
   "outputs": [
    {
     "name": "stdout",
     "output_type": "stream",
     "text": [
      "{\n",
      "  \"timestamp\": \"2025-09-19T03:10:36.978243\",\n",
      "  \"python\": \"3.12.11 (main, Jun  4 2025, 08:56:18) [GCC 11.4.0]\",\n",
      "  \"platform\": \"Linux-6.1.123+-x86_64-with-glibc2.35\",\n",
      "  \"packages\": {\n",
      "    \"langchain\": \"0.3.27\",\n",
      "    \"langchain_community\": \"0.3.29\",\n",
      "    \"chromadb\": \"1.1.0\",\n",
      "    \"tiktoken\": \"0.11.0\",\n",
      "    \"transformers\": \"4.56.1\",\n",
      "    \"sentence_transformers\": \"5.1.0\",\n",
      "    \"langchain_google_genai\": \"unknown\",\n",
      "    \"google.genai\": \"1.38.0\"\n",
      "  }\n",
      "}\n"
     ]
    }
   ],
   "source": [
    "\n",
    "def pv(m):\n",
    "    try:\n",
    "        mod = importlib.import_module(m)\n",
    "        return getattr(mod, \"__version__\", \"unknown\")\n",
    "    except: return \"not installed\"\n",
    "env = {\n",
    "  \"timestamp\": datetime.datetime.now().isoformat(),\n",
    "  \"python\": sys.version, \"platform\": platform.platform(),\n",
    "  \"packages\": {m: pv(m) for m in [\n",
    "    \"langchain\",\"langchain_community\",\"chromadb\",\"tiktoken\",\"transformers\",\n",
    "    \"sentence_transformers\",\"langchain_google_genai\",\"google.genai\"\n",
    "  ]}\n",
    "}\n",
    "with open(\"env_rag.json\",\"w\") as f: json.dump(env, f, indent=2)\n",
    "print(json.dumps(env, indent=2))\n"
   ]
  },
  {
   "cell_type": "markdown",
   "id": "ltUDTc7hJMZt",
   "metadata": {
    "id": "ltUDTc7hJMZt"
   },
   "source": [
    "### 4) Upload documents"
   ]
  },
  {
   "cell_type": "code",
   "execution_count": 4,
   "id": "b83kB3YHJMZt",
   "metadata": {},
   "outputs": [
    {
     "data": {
      "text/html": [
       "\n",
       "     <input type=\"file\" id=\"files-fa5e6a5f-8eaf-4cb0-983f-cff1074a75be\" name=\"files[]\" multiple disabled\n",
       "        style=\"border:none\" />\n",
       "     <output id=\"result-fa5e6a5f-8eaf-4cb0-983f-cff1074a75be\">\n",
       "      Upload widget is only available when the cell has been executed in the\n",
       "      current browser session. Please rerun this cell to enable.\n",
       "      </output>\n",
       "      <script>// Copyright 2017 Google LLC\n",
       "//\n",
       "// Licensed under the Apache License, Version 2.0 (the \"License\");\n",
       "// you may not use this file except in compliance with the License.\n",
       "// You may obtain a copy of the License at\n",
       "//\n",
       "//      http://www.apache.org/licenses/LICENSE-2.0\n",
       "//\n",
       "// Unless required by applicable law or agreed to in writing, software\n",
       "// distributed under the License is distributed on an \"AS IS\" BASIS,\n",
       "// WITHOUT WARRANTIES OR CONDITIONS OF ANY KIND, either express or implied.\n",
       "// See the License for the specific language governing permissions and\n",
       "// limitations under the License.\n",
       "\n",
       "/**\n",
       " * @fileoverview Helpers for google.colab Python module.\n",
       " */\n",
       "(function(scope) {\n",
       "function span(text, styleAttributes = {}) {\n",
       "  const element = document.createElement('span');\n",
       "  element.textContent = text;\n",
       "  for (const key of Object.keys(styleAttributes)) {\n",
       "    element.style[key] = styleAttributes[key];\n",
       "  }\n",
       "  return element;\n",
       "}\n",
       "\n",
       "// Max number of bytes which will be uploaded at a time.\n",
       "const MAX_PAYLOAD_SIZE = 100 * 1024;\n",
       "\n",
       "function _uploadFiles(inputId, outputId) {\n",
       "  const steps = uploadFilesStep(inputId, outputId);\n",
       "  const outputElement = document.getElementById(outputId);\n",
       "  // Cache steps on the outputElement to make it available for the next call\n",
       "  // to uploadFilesContinue from Python.\n",
       "  outputElement.steps = steps;\n",
       "\n",
       "  return _uploadFilesContinue(outputId);\n",
       "}\n",
       "\n",
       "// This is roughly an async generator (not supported in the browser yet),\n",
       "// where there are multiple asynchronous steps and the Python side is going\n",
       "// to poll for completion of each step.\n",
       "// This uses a Promise to block the python side on completion of each step,\n",
       "// then passes the result of the previous step as the input to the next step.\n",
       "function _uploadFilesContinue(outputId) {\n",
       "  const outputElement = document.getElementById(outputId);\n",
       "  const steps = outputElement.steps;\n",
       "\n",
       "  const next = steps.next(outputElement.lastPromiseValue);\n",
       "  return Promise.resolve(next.value.promise).then((value) => {\n",
       "    // Cache the last promise value to make it available to the next\n",
       "    // step of the generator.\n",
       "    outputElement.lastPromiseValue = value;\n",
       "    return next.value.response;\n",
       "  });\n",
       "}\n",
       "\n",
       "/**\n",
       " * Generator function which is called between each async step of the upload\n",
       " * process.\n",
       " * @param {string} inputId Element ID of the input file picker element.\n",
       " * @param {string} outputId Element ID of the output display.\n",
       " * @return {!Iterable<!Object>} Iterable of next steps.\n",
       " */\n",
       "function* uploadFilesStep(inputId, outputId) {\n",
       "  const inputElement = document.getElementById(inputId);\n",
       "  inputElement.disabled = false;\n",
       "\n",
       "  const outputElement = document.getElementById(outputId);\n",
       "  outputElement.innerHTML = '';\n",
       "\n",
       "  const pickedPromise = new Promise((resolve) => {\n",
       "    inputElement.addEventListener('change', (e) => {\n",
       "      resolve(e.target.files);\n",
       "    });\n",
       "  });\n",
       "\n",
       "  const cancel = document.createElement('button');\n",
       "  inputElement.parentElement.appendChild(cancel);\n",
       "  cancel.textContent = 'Cancel upload';\n",
       "  const cancelPromise = new Promise((resolve) => {\n",
       "    cancel.onclick = () => {\n",
       "      resolve(null);\n",
       "    };\n",
       "  });\n",
       "\n",
       "  // Wait for the user to pick the files.\n",
       "  const files = yield {\n",
       "    promise: Promise.race([pickedPromise, cancelPromise]),\n",
       "    response: {\n",
       "      action: 'starting',\n",
       "    }\n",
       "  };\n",
       "\n",
       "  cancel.remove();\n",
       "\n",
       "  // Disable the input element since further picks are not allowed.\n",
       "  inputElement.disabled = true;\n",
       "\n",
       "  if (!files) {\n",
       "    return {\n",
       "      response: {\n",
       "        action: 'complete',\n",
       "      }\n",
       "    };\n",
       "  }\n",
       "\n",
       "  for (const file of files) {\n",
       "    const li = document.createElement('li');\n",
       "    li.append(span(file.name, {fontWeight: 'bold'}));\n",
       "    li.append(span(\n",
       "        `(${file.type || 'n/a'}) - ${file.size} bytes, ` +\n",
       "        `last modified: ${\n",
       "            file.lastModifiedDate ? file.lastModifiedDate.toLocaleDateString() :\n",
       "                                    'n/a'} - `));\n",
       "    const percent = span('0% done');\n",
       "    li.appendChild(percent);\n",
       "\n",
       "    outputElement.appendChild(li);\n",
       "\n",
       "    const fileDataPromise = new Promise((resolve) => {\n",
       "      const reader = new FileReader();\n",
       "      reader.onload = (e) => {\n",
       "        resolve(e.target.result);\n",
       "      };\n",
       "      reader.readAsArrayBuffer(file);\n",
       "    });\n",
       "    // Wait for the data to be ready.\n",
       "    let fileData = yield {\n",
       "      promise: fileDataPromise,\n",
       "      response: {\n",
       "        action: 'continue',\n",
       "      }\n",
       "    };\n",
       "\n",
       "    // Use a chunked sending to avoid message size limits. See b/62115660.\n",
       "    let position = 0;\n",
       "    do {\n",
       "      const length = Math.min(fileData.byteLength - position, MAX_PAYLOAD_SIZE);\n",
       "      const chunk = new Uint8Array(fileData, position, length);\n",
       "      position += length;\n",
       "\n",
       "      const base64 = btoa(String.fromCharCode.apply(null, chunk));\n",
       "      yield {\n",
       "        response: {\n",
       "          action: 'append',\n",
       "          file: file.name,\n",
       "          data: base64,\n",
       "        },\n",
       "      };\n",
       "\n",
       "      let percentDone = fileData.byteLength === 0 ?\n",
       "          100 :\n",
       "          Math.round((position / fileData.byteLength) * 100);\n",
       "      percent.textContent = `${percentDone}% done`;\n",
       "\n",
       "    } while (position < fileData.byteLength);\n",
       "  }\n",
       "\n",
       "  // All done.\n",
       "  yield {\n",
       "    response: {\n",
       "      action: 'complete',\n",
       "    }\n",
       "  };\n",
       "}\n",
       "\n",
       "scope.google = scope.google || {};\n",
       "scope.google.colab = scope.google.colab || {};\n",
       "scope.google.colab._files = {\n",
       "  _uploadFiles,\n",
       "  _uploadFilesContinue,\n",
       "};\n",
       "})(self);\n",
       "</script> "
      ],
      "text/plain": [
       "<IPython.core.display.HTML object>"
      ]
     },
     "metadata": {},
     "output_type": "display_data"
    },
    {
     "name": "stdout",
     "output_type": "stream",
     "text": [
      "Saving NeurIPS-2024-can-large-language-model-agents-simulate-human-trust-behavior-Paper-Conference.pdf to NeurIPS-2024-can-large-language-model-agents-simulate-human-trust-behavior-Paper-Conference.pdf\n",
      "Saving NeurIPS-2024-richelieu-self-evolving-llm-based-agents-for-ai-diplomacy-Paper-Conference.pdf to NeurIPS-2024-richelieu-self-evolving-llm-based-agents-for-ai-diplomacy-Paper-Conference.pdf\n",
      "Saving NeurIPS-2024-mdagents-an-adaptive-collaboration-of-llms-for-medical-decision-making-Paper-Conference.pdf to NeurIPS-2024-mdagents-an-adaptive-collaboration-of-llms-for-medical-decision-making-Paper-Conference.pdf\n",
      "Uploaded: ['NeurIPS-2024-can-large-language-model-agents-simulate-human-trust-behavior-Paper-Conference.pdf', 'NeurIPS-2024-richelieu-self-evolving-llm-based-agents-for-ai-diplomacy-Paper-Conference.pdf', 'NeurIPS-2024-mdagents-an-adaptive-collaboration-of-llms-for-medical-decision-making-Paper-Conference.pdf']\n"
     ]
    }
   ],
   "source": [
    "\n",
    "try:\n",
    "    from google.colab import files\n",
    "    up = files.upload()\n",
    "    import os\n",
    "    os.makedirs(\"data\", exist_ok=True)\n",
    "    for n,c in up.items():\n",
    "        open(os.path.join(\"data\", n), \"wb\").write(c)\n",
    "    print(\"Uploaded:\", list(up.keys()))\n",
    "except Exception as e:\n",
    "    print(\"Colab upload UI not available.\", e)\n"
   ]
  },
  {
   "cell_type": "markdown",
   "id": "_TS9Nj4jJMZu",
   "metadata": {
    "id": "_TS9Nj4jJMZu"
   },
   "source": [
    "### 5) Load & chunk"
   ]
  },
  {
   "cell_type": "code",
   "execution_count": 5,
   "id": "tEG4A4LoJMZu",
   "metadata": {},
   "outputs": [
    {
     "name": "stdout",
     "output_type": "stream",
     "text": [
      "Loaded 126\n",
      "Chunks: 1066\n",
      "Richelieu: Self-Evolving LLM-Based Agents for AI\n",
      "Diplomacy\n",
      "Zhenyu Guan ♢, Xiangyu Kong♣†B, Fangwei Zhong♠†B, Yizhou Wang♡♢\n",
      "♢ Institute for Artificial Intelligence, Peking University\n",
      "♣ College of Computer Science, Beijing Information Science and Technology University\n",
      "♠ School of Artificial Intelligence, Beijing Normal University\n",
      "♡ Center on Frontiers of Computing Studies, School of Computer Science\n"
     ]
    }
   ],
   "source": [
    "\n",
    "import os\n",
    "def load_docs(folder=\"data\"):\n",
    "    docs=[]\n",
    "    for fname in os.listdir(folder):\n",
    "        p=os.path.join(folder,fname)\n",
    "        if not os.path.isfile(p): continue\n",
    "        ext=fname.lower().split(\".\")[-1]\n",
    "        try:\n",
    "            if ext==\"pdf\": loader=PyPDFLoader(p)\n",
    "            elif ext in [\"txt\",\"md\",\"markdown\"]: loader=TextLoader(p, encoding=\"utf-8\")\n",
    "            else:\n",
    "                print(\"Skip\", fname); continue\n",
    "            docs += loader.load()\n",
    "        except Exception as e:\n",
    "            print(\"Fail\", fname, e)\n",
    "    return docs\n",
    "raw_docs=load_docs(\"data\")\n",
    "print(\"Loaded\", len(raw_docs))\n",
    "splitter=RecursiveCharacterTextSplitter(chunk_size=500, chunk_overlap=100)\n",
    "splits=splitter.split_documents(raw_docs)\n",
    "print(\"Chunks:\", len(splits))\n",
    "if splits: print(splits[0].page_content[:400])\n",
    "rag_run_config={\"chunk_size\":500,\"chunk_overlap\":100,\"embedding_models_tested\":[],\"llm\":None,\"retriever_k\":4}\n",
    "import json\n",
    "json.dump(rag_run_config, open(\"rag_run_config.json\",\"w\"), indent=2)\n"
   ]
  },
  {
   "cell_type": "markdown",
   "id": "uxqwsaVAJMZv",
   "metadata": {
    "id": "uxqwsaVAJMZv"
   },
   "source": [
    "### 6) Vector DB (Chroma) + baseline embeddings"
   ]
  },
  {
   "cell_type": "code",
   "execution_count": 6,
   "id": "880VnWw0JMZv",
   "metadata": {},
   "outputs": [
    {
     "name": "stderr",
     "output_type": "stream",
     "text": [
      "/tmp/ipython-input-1341119953.py:3: LangChainDeprecationWarning: The class `HuggingFaceEmbeddings` was deprecated in LangChain 0.2.2 and will be removed in 1.0. An updated version of the class exists in the :class:`~langchain-huggingface package and should be used instead. To use it run `pip install -U :class:`~langchain-huggingface` and import as `from :class:`~langchain_huggingface import HuggingFaceEmbeddings``.\n",
      "  emb = SentenceTransformerEmbeddings(model_name=\"sentence-transformers/all-MiniLM-L6-v2\")\n",
      "/usr/local/lib/python3.12/dist-packages/huggingface_hub/utils/_auth.py:94: UserWarning: \n",
      "The secret `HF_TOKEN` does not exist in your Colab secrets.\n",
      "To authenticate with the Hugging Face Hub, create a token in your settings tab (https://huggingface.co/settings/tokens), set it as secret in your Google Colab and restart your session.\n",
      "You will be able to reuse this secret in all of your notebooks.\n",
      "Please note that authentication is recommended but still optional to access public models or datasets.\n",
      "  warnings.warn(\n"
     ]
    },
    {
     "data": {
      "application/vnd.jupyter.widget-view+json": {
       "model_id": "7c44689dd020468593c8696963ebcf82",
       "version_major": 2,
       "version_minor": 0
      },
      "text/plain": [
       "modules.json:   0%|          | 0.00/349 [00:00<?, ?B/s]"
      ]
     },
     "metadata": {},
     "output_type": "display_data"
    },
    {
     "data": {
      "application/vnd.jupyter.widget-view+json": {
       "model_id": "50bf1f180e8247ae9ce8bd15beade3e1",
       "version_major": 2,
       "version_minor": 0
      },
      "text/plain": [
       "config_sentence_transformers.json:   0%|          | 0.00/116 [00:00<?, ?B/s]"
      ]
     },
     "metadata": {},
     "output_type": "display_data"
    },
    {
     "data": {
      "application/vnd.jupyter.widget-view+json": {
       "model_id": "7d76734036e34ea1a0e022d2c133ca9f",
       "version_major": 2,
       "version_minor": 0
      },
      "text/plain": [
       "README.md: 0.00B [00:00, ?B/s]"
      ]
     },
     "metadata": {},
     "output_type": "display_data"
    },
    {
     "data": {
      "application/vnd.jupyter.widget-view+json": {
       "model_id": "65b0bb2edf464232bda1d1fd412e34a5",
       "version_major": 2,
       "version_minor": 0
      },
      "text/plain": [
       "sentence_bert_config.json:   0%|          | 0.00/53.0 [00:00<?, ?B/s]"
      ]
     },
     "metadata": {},
     "output_type": "display_data"
    },
    {
     "data": {
      "application/vnd.jupyter.widget-view+json": {
       "model_id": "38fd6ae284644f26b97fb5d7e3cd7195",
       "version_major": 2,
       "version_minor": 0
      },
      "text/plain": [
       "config.json:   0%|          | 0.00/612 [00:00<?, ?B/s]"
      ]
     },
     "metadata": {},
     "output_type": "display_data"
    },
    {
     "data": {
      "application/vnd.jupyter.widget-view+json": {
       "model_id": "6cb6c727f2da42e09c2fc3ed41953cfb",
       "version_major": 2,
       "version_minor": 0
      },
      "text/plain": [
       "model.safetensors:   0%|          | 0.00/90.9M [00:00<?, ?B/s]"
      ]
     },
     "metadata": {},
     "output_type": "display_data"
    },
    {
     "data": {
      "application/vnd.jupyter.widget-view+json": {
       "model_id": "969806f0cb554bc7a67e38a3ae34c96a",
       "version_major": 2,
       "version_minor": 0
      },
      "text/plain": [
       "tokenizer_config.json:   0%|          | 0.00/350 [00:00<?, ?B/s]"
      ]
     },
     "metadata": {},
     "output_type": "display_data"
    },
    {
     "data": {
      "application/vnd.jupyter.widget-view+json": {
       "model_id": "1c7578cd9b3743fe95f7f1f42dda0407",
       "version_major": 2,
       "version_minor": 0
      },
      "text/plain": [
       "vocab.txt: 0.00B [00:00, ?B/s]"
      ]
     },
     "metadata": {},
     "output_type": "display_data"
    },
    {
     "data": {
      "application/vnd.jupyter.widget-view+json": {
       "model_id": "9033c9367739440094086a8455642a12",
       "version_major": 2,
       "version_minor": 0
      },
      "text/plain": [
       "tokenizer.json: 0.00B [00:00, ?B/s]"
      ]
     },
     "metadata": {},
     "output_type": "display_data"
    },
    {
     "data": {
      "application/vnd.jupyter.widget-view+json": {
       "model_id": "8c95b40587344a27bb7524a2eac94d24",
       "version_major": 2,
       "version_minor": 0
      },
      "text/plain": [
       "special_tokens_map.json:   0%|          | 0.00/112 [00:00<?, ?B/s]"
      ]
     },
     "metadata": {},
     "output_type": "display_data"
    },
    {
     "data": {
      "application/vnd.jupyter.widget-view+json": {
       "model_id": "f1fb07e58fd746ac9fa8e0dc1f82e361",
       "version_major": 2,
       "version_minor": 0
      },
      "text/plain": [
       "config.json:   0%|          | 0.00/190 [00:00<?, ?B/s]"
      ]
     },
     "metadata": {},
     "output_type": "display_data"
    },
    {
     "name": "stdout",
     "output_type": "stream",
     "text": [
      "Vector store ready.\n"
     ]
    },
    {
     "name": "stderr",
     "output_type": "stream",
     "text": [
      "/tmp/ipython-input-1341119953.py:5: LangChainDeprecationWarning: Since Chroma 0.4.x the manual persistence method is no longer supported as docs are automatically persisted.\n",
      "  vs.persist()\n"
     ]
    }
   ],
   "source": [
    "\n",
    "from langchain_community.embeddings import SentenceTransformerEmbeddings\n",
    "from langchain_community.vectorstores import Chroma\n",
    "emb = SentenceTransformerEmbeddings(model_name=\"sentence-transformers/all-MiniLM-L6-v2\")\n",
    "vs = Chroma.from_documents(splits, embedding=emb, persist_directory=\"./chroma_minilm\")\n",
    "vs.persist()\n",
    "retriever = vs.as_retriever(search_kwargs={\"k\":4})\n",
    "print(\"Vector store ready.\")\n",
    "cfg=json.load(open(\"rag_run_config.json\"))\n",
    "cfg[\"embedding_models_tested\"].append(\"sentence-transformers/all-MiniLM-L6-v2\")\n",
    "json.dump(cfg, open(\"rag_run_config.json\",\"w\"), indent=2)\n"
   ]
  },
  {
   "cell_type": "markdown",
   "id": "OcDVxdW9JMZv",
   "metadata": {
    "id": "OcDVxdW9JMZv"
   },
   "source": [
    "### 7) RetrievalQA with Gemini"
   ]
  },
  {
   "cell_type": "code",
   "execution_count": 7,
   "id": "H-_Vpf1OJMZw",
   "metadata": {},
   "outputs": [
    {
     "name": "stderr",
     "output_type": "stream",
     "text": [
      "/tmp/ipython-input-94959022.py:4: LangChainDeprecationWarning: The method `Chain.__call__` was deprecated in langchain 0.1.0 and will be removed in 1.0. Use :meth:`~invoke` instead.\n",
      "  r=qa({\"query\":q})\n"
     ]
    },
    {
     "name": "stdout",
     "output_type": "stream",
     "text": [
      "\n",
      "Q: What are the main findings relevant to our project domain?\n",
      "A: Based on the provided text, there are no specific \"main findings\" of a research project discussed. The text primarily outlines guidelines and expectations for authors regarding the \"Broader Impacts\" section of their papers, focusing on:\n",
      "\n",
      "*   **Examples of negative societal impacts:** malicious/unintended uses (disinformation, fake profiles, surveillance), fairness, privacy, and security considerations.\n",
      "*   **Expectation for authors:** To discuss potential negative applications, even for foundational research, if there's a direct path to them.\n",
      "*   **A sample \"Broader Impacts\" question:** Whether the paper discusses both positive and negative societal impacts.\n",
      "*   **Guidelines:** Including preserving anonymity and using \"NA\" if there is no societal impact.\n",
      "\n",
      "Sources:\n",
      "[1] data/NeurIPS-2024-can-large-language-model-agents-simulate-human-trust-behavior-Paper-Conference.pdf :: • Examples of negative societal impacts include potential malicious or unintended uses (e.g., disinformation, generating fake profiles, surveillance), fairness ...\n",
      "[2] data/NeurIPS-2024-richelieu-self-evolving-llm-based-agents-for-ai-diplomacy-Paper-Conference.pdf :: (e.g., deployment of technologies that could make decisions that unfairly impact specific groups), privacy considerations, and security considerations. • The co...\n",
      "[3] data/NeurIPS-2024-mdagents-an-adaptive-collaboration-of-llms-for-medical-decision-making-Paper-Conference.pdf :: impact or why the paper does not address societal impact. • Examples of negative societal impacts include potential malicious or unintended uses (e.g., disinfor...\n"
     ]
    }
   ],
   "source": [
    "\n",
    "llm = ChatGoogleGenerativeAI(model=\"gemini-2.5-flash\", temperature=0.2)\n",
    "qa = RetrievalQA.from_chain_type(llm=llm, chain_type=\"stuff\", retriever=retriever, return_source_documents=True)\n",
    "def ask(q):\n",
    "    r=qa({\"query\":q})\n",
    "    print(\"\\nQ:\", q); print(\"A:\", r.get(\"result\",\"\"))\n",
    "    print(\"\\nSources:\")\n",
    "    for i,d in enumerate(r.get(\"source_documents\",[])[:3]):\n",
    "        print(f\"[{i+1}] {d.metadata.get('source','?')} ::\", d.page_content[:160].replace(\"\\n\",\" \")+\"...\")\n",
    "ask(\"What are the main findings relevant to our project domain?\")\n"
   ]
  },
  {
   "cell_type": "markdown",
   "id": "xzMlj_v2JMZw",
   "metadata": {
    "id": "xzMlj_v2JMZw"
   },
   "source": [
    "### 8) Mini-experiments (embedding swap & chunk sensitivity) — optional"
   ]
  },
  {
   "cell_type": "code",
   "execution_count": 8,
   "id": "xA1fAbDYJMZx",
   "metadata": {},
   "outputs": [
    {
     "name": "stdout",
     "output_type": "stream",
     "text": [
      "\n",
      "=== Embedding Swap: MiniLM vs Gemini ===\n",
      "\n",
      "[MiniLM] Q: Define Valid Response Rate (VRR) in the Trust Game paper in one sentence. \n",
      "A: Valid Response Rate (VRR) is defined as the percentage of personas whose amount sent falls within the initial money ($10) in the Trust Game.\n",
      "  MiniLM src 1: data/NeurIPS-2024-can-large-language-model-agents-simulate-human-trust-behavior-Paper-Conference.pdf\n",
      "  MiniLM src 2: data/NeurIPS-2024-can-large-language-model-agents-simulate-human-trust-behavior-Paper-Conference.pdf\n",
      "  MiniLM src 3: data/NeurIPS-2024-can-large-language-model-agents-simulate-human-trust-behavior-Paper-Conference.pdf\n",
      "\n",
      "[Gem-emb] Q: Define Valid Response Rate (VRR) in the Trust Game paper in one sentence. \n",
      "A: Valid Response Rate (VRR) indicates an LLM's understanding of the limits on the amount it can send in the Trust Game.\n",
      "  Gem-emb src 1: data/NeurIPS-2024-can-large-language-model-agents-simulate-human-trust-behavior-Paper-Conference.pdf\n",
      "  Gem-emb src 2: data/NeurIPS-2024-can-large-language-model-agents-simulate-human-trust-behavior-Paper-Conference.pdf\n",
      "  Gem-emb src 3: data/NeurIPS-2024-can-large-language-model-agents-simulate-human-trust-behavior-Paper-Conference.pdf\n"
     ]
    }
   ],
   "source": [
    "from langchain_google_genai import GoogleGenerativeAIEmbeddings\n",
    "from langchain_community.vectorstores import Chroma\n",
    "import shutil, json\n",
    "\n",
    "g_emb = GoogleGenerativeAIEmbeddings(model=\"models/text-embedding-004\")\n",
    "\n",
    "shutil.rmtree(\"./chroma_gemini\", ignore_errors=True)\n",
    "vs_gem = Chroma.from_documents(splits, embedding=g_emb, persist_directory=\"./chroma_gemini\")\n",
    "vs_gem.persist()\n",
    "retriever_gem = vs_gem.as_retriever(search_kwargs={\"k\": 4})\n",
    "\n",
    "from langchain.chains import RetrievalQA\n",
    "qa_gem = RetrievalQA.from_chain_type(\n",
    "    llm=llm, chain_type=\"stuff\", retriever=retriever_gem, return_source_documents=True\n",
    ")\n",
    "\n",
    "def compare_embeddings(query: str):\n",
    "    print(\"\\n=== Embedding Swap: MiniLM vs Gemini ===\")\n",
    "    r1 = qa({\"query\": query})\n",
    "    r2 = qa_gem({\"query\": query})\n",
    "\n",
    "    print(\"\\n[MiniLM] Q:\", query, \"\\nA:\", r1.get(\"result\",\"\"))\n",
    "    for i,d in enumerate(r1.get(\"source_documents\",[])[:3]):\n",
    "        print(f\"  MiniLM src {i+1}:\", d.metadata.get(\"source\",\"?\"))\n",
    "\n",
    "    print(\"\\n[Gem-emb] Q:\", query, \"\\nA:\", r2.get(\"result\",\"\"))\n",
    "    for i,d in enumerate(r2.get(\"source_documents\",[])[:3]):\n",
    "        print(f\"  Gem-emb src {i+1}:\", d.metadata.get(\"source\",\"?\"))\n",
    "\n",
    "    return r1, r2\n",
    "\n",
    "_ = compare_embeddings(\"Define Valid Response Rate (VRR) in the Trust Game paper in one sentence.\")\n"
   ]
  },
  {
   "cell_type": "code",
   "execution_count": 9,
   "id": "Kt3nT0XL_m4u",
   "metadata": {},
   "outputs": [
    {
     "name": "stdout",
     "output_type": "stream",
     "text": [
      "Updated rag_run_config.json\n"
     ]
    }
   ],
   "source": [
    "cfg = json.load(open(\"rag_run_config.json\"))\n",
    "tested = set(cfg.get(\"embedding_models_tested\", []))\n",
    "tested.update([\"sentence-transformers/all-MiniLM-L6-v2\", \"models/text-embedding-004\"])\n",
    "cfg[\"embedding_models_tested\"] = sorted(tested)\n",
    "cfg[\"llm\"] = \"gemini-2.5-flash\"\n",
    "json.dump(cfg, open(\"rag_run_config.json\",\"w\"), indent=2)\n",
    "print(\"Updated rag_run_config.json\")"
   ]
  },
  {
   "cell_type": "code",
   "execution_count": 10,
   "id": "xbv0V61c_2Nn",
   "metadata": {},
   "outputs": [
    {
     "name": "stdout",
     "output_type": "stream",
     "text": [
      "Small-chunk count: 1667\n",
      "\n",
      "=== Chunk Size: 500/100 vs 300/50 (Gemini embeddings) ===\n",
      "\n",
      "[500/100] Q: List the four stages of MDAgents in order. \n",
      "A: The four stages of MDAgents are:\n",
      "1.  Medical complexity check\n",
      "2.  Recruitment based on medical complexity\n",
      "3.  Analysis and synthesis\n",
      "4.  Final decision-making to return the answer\n",
      "  Src 1: data/NeurIPS-2024-mdagents-an-adaptive-collaboration-of-llms-for-medical-decision-making-Paper-Conference.pdf\n",
      "  Src 2: data/NeurIPS-2024-mdagents-an-adaptive-collaboration-of-llms-for-medical-decision-making-Paper-Conference.pdf\n",
      "  Src 3: data/NeurIPS-2024-mdagents-an-adaptive-collaboration-of-llms-for-medical-decision-making-Paper-Conference.pdf\n",
      "\n",
      "[300/50] Q: List the four stages of MDAgents in order. \n",
      "A: The provided text states that \"The design of MDAgents (Figures 1 and 2) incorporates four stages: 1) Medical Complexity Check\". However, it only lists the first stage and does not provide the remaining three stages.\n",
      "  Src 1: data/NeurIPS-2024-mdagents-an-adaptive-collaboration-of-llms-for-medical-decision-making-Paper-Conference.pdf\n",
      "  Src 2: data/NeurIPS-2024-mdagents-an-adaptive-collaboration-of-llms-for-medical-decision-making-Paper-Conference.pdf\n",
      "  Src 3: data/NeurIPS-2024-mdagents-an-adaptive-collaboration-of-llms-for-medical-decision-making-Paper-Conference.pdf\n"
     ]
    }
   ],
   "source": [
    "from langchain.text_splitter import RecursiveCharacterTextSplitter\n",
    "from langchain_community.vectorstores import Chroma\n",
    "import shutil\n",
    "\n",
    "splitter_small = RecursiveCharacterTextSplitter(chunk_size=300, chunk_overlap=50)\n",
    "splits_small = splitter_small.split_documents(raw_docs)\n",
    "print(\"Small-chunk count:\", len(splits_small))\n",
    "\n",
    "shutil.rmtree(\"./chroma_gemini_small\", ignore_errors=True)\n",
    "vs_gem_small = Chroma.from_documents(splits_small, embedding=g_emb, persist_directory=\"./chroma_gemini_small\")\n",
    "vs_gem_small.persist()\n",
    "retriever_gem_small = vs_gem_small.as_retriever(search_kwargs={\"k\": 4})\n",
    "\n",
    "qa_gem_small = RetrievalQA.from_chain_type(\n",
    "    llm=llm, chain_type=\"stuff\", retriever=retriever_gem_small, return_source_documents=True\n",
    ")\n",
    "\n",
    "def compare_chunks(query: str):\n",
    "    print(\"\\n=== Chunk Size: 500/100 vs 300/50 (Gemini embeddings) ===\")\n",
    "    r_def = qa_gem({\"query\": query})\n",
    "    r_small = qa_gem_small({\"query\": query})\n",
    "\n",
    "    print(\"\\n[500/100] Q:\", query, \"\\nA:\", r_def.get(\"result\",\"\"))\n",
    "    for i,d in enumerate(r_def.get(\"source_documents\",[])[:3]):\n",
    "        print(f\"  Src {i+1}:\", d.metadata.get(\"source\",\"?\"))\n",
    "\n",
    "    print(\"\\n[300/50] Q:\", query, \"\\nA:\", r_small.get(\"result\",\"\"))\n",
    "    for i,d in enumerate(r_small.get(\"source_documents\",[])[:3]):\n",
    "        print(f\"  Src {i+1}:\", d.metadata.get(\"source\",\"?\"))\n",
    "\n",
    "    return r_def, r_small\n",
    "\n",
    "_ = compare_chunks(\"List the four stages of MDAgents in order.\")"
   ]
  },
  {
   "cell_type": "code",
   "execution_count": null,
   "id": "FQpkIS3-_8Vs",
   "metadata": {},
   "outputs": [],
   "source": [
    "import json\n",
    "cfg = json.load(open(\"rag_run_config.json\"))\n",
    "cfg[\"chunk_size_alt\"] = 300\n",
    "cfg[\"chunk_overlap_alt\"] = 50\n",
    "json.dump(cfg, open(\"rag_run_config.json\",\"w\"), indent=2)\n",
    "print(\"Updated rag_run_config.json with alternate chunk size.\")"
   ]
  },
  {
   "cell_type": "markdown",
   "id": "QTVcqR5tA1v7",
   "metadata": {
    "id": "QTVcqR5tA1v7"
   },
   "source": [
    "I ran Track-B with Gemini, indexed my three NeurIPS PDFs in Chroma, and asked questions through a RAG chain. For the embedding swap, MiniLM gave a cleaner one line VRR definition, while Gemini embeddings were a bit more interpretive but still on the right paper. When I changed chunking from 500/100 to 300/50, the smaller chunks sometimes clipped context on MDAgents it even returned only the first stage while the default chunks pulled all four stages properly. So my understanding is: in RAG, the embedding choice and chunk size strongly control what gets retrieved, and that directly shapes the answer. Because of that, I always looked at the source snippets to be sure the response was grounded."
   ]
  },
  {
   "cell_type": "code",
   "execution_count": null,
   "id": "YKUOV7hUA94R",
   "metadata": {},
   "outputs": [],
   "source": []
  }
 ],
 "metadata": {},
 "nbformat": 4,
 "nbformat_minor": 5
}
