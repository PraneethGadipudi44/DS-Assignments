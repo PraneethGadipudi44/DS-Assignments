{
 "cells": [
  {
   "cell_type": "markdown",
   "id": "lp4ApnNANtV0",
   "metadata": {
    "id": "lp4ApnNANtV0"
   },
   "source": [
    "# CS 5588 — Enhanced RAG + Gemini + Fine-Tuning on Online Dataset\n",
    "_Generated: 2025-09-14T13:53:05_"
   ]
  },
  {
   "cell_type": "markdown",
   "id": "kG8piPGnNtV5",
   "metadata": {
    "id": "kG8piPGnNtV5"
   },
   "source": [
    "### 1) Install"
   ]
  },
  {
   "cell_type": "code",
   "execution_count": 1,
   "id": "xJ8H_zJ6NtV6",
   "metadata": {},
   "outputs": [
    {
     "name": "stdout",
     "output_type": "stream",
     "text": [
      "\u001b[2K     \u001b[90m━━━━━━━━━━━━━━━━━━━━━━━━━━━━━━━━━━━━━━━━\u001b[0m \u001b[32m43.6/43.6 kB\u001b[0m \u001b[31m1.7 MB/s\u001b[0m eta \u001b[36m0:00:00\u001b[0m\n",
      "\u001b[2K     \u001b[90m━━━━━━━━━━━━━━━━━━━━━━━━━━━━━━━━━━━━━━━━\u001b[0m \u001b[32m67.3/67.3 kB\u001b[0m \u001b[31m6.0 MB/s\u001b[0m eta \u001b[36m0:00:00\u001b[0m\n",
      "\u001b[?25h  Installing build dependencies ... \u001b[?25l\u001b[?25hdone\n",
      "  Getting requirements to build wheel ... \u001b[?25l\u001b[?25hdone\n",
      "  Preparing metadata (pyproject.toml) ... \u001b[?25l\u001b[?25hdone\n",
      "\u001b[2K   \u001b[90m━━━━━━━━━━━━━━━━━━━━━━━━━━━━━━━━━━━━━━━━\u001b[0m \u001b[32m2.5/2.5 MB\u001b[0m \u001b[31m51.2 MB/s\u001b[0m eta \u001b[36m0:00:00\u001b[0m\n",
      "\u001b[2K   \u001b[90m━━━━━━━━━━━━━━━━━━━━━━━━━━━━━━━━━━━━━━━━\u001b[0m \u001b[32m19.8/19.8 MB\u001b[0m \u001b[31m74.3 MB/s\u001b[0m eta \u001b[36m0:00:00\u001b[0m\n",
      "\u001b[2K   \u001b[90m━━━━━━━━━━━━━━━━━━━━━━━━━━━━━━━━━━━━━━━━\u001b[0m \u001b[32m310.5/310.5 kB\u001b[0m \u001b[31m24.8 MB/s\u001b[0m eta \u001b[36m0:00:00\u001b[0m\n",
      "\u001b[2K   \u001b[90m━━━━━━━━━━━━━━━━━━━━━━━━━━━━━━━━━━━━━━━━\u001b[0m \u001b[32m503.6/503.6 kB\u001b[0m \u001b[31m35.8 MB/s\u001b[0m eta \u001b[36m0:00:00\u001b[0m\n",
      "\u001b[2K   \u001b[90m━━━━━━━━━━━━━━━━━━━━━━━━━━━━━━━━━━━━━━━━\u001b[0m \u001b[32m84.1/84.1 kB\u001b[0m \u001b[31m6.5 MB/s\u001b[0m eta \u001b[36m0:00:00\u001b[0m\n",
      "\u001b[2K   \u001b[90m━━━━━━━━━━━━━━━━━━━━━━━━━━━━━━━━━━━━━━━━\u001b[0m \u001b[32m50.7/50.7 kB\u001b[0m \u001b[31m4.4 MB/s\u001b[0m eta \u001b[36m0:00:00\u001b[0m\n",
      "\u001b[2K   \u001b[90m━━━━━━━━━━━━━━━━━━━━━━━━━━━━━━━━━━━━━━━━\u001b[0m \u001b[32m245.6/245.6 kB\u001b[0m \u001b[31m21.2 MB/s\u001b[0m eta \u001b[36m0:00:00\u001b[0m\n",
      "\u001b[2K   \u001b[90m━━━━━━━━━━━━━━━━━━━━━━━━━━━━━━━━━━━━━━━━\u001b[0m \u001b[32m284.2/284.2 kB\u001b[0m \u001b[31m22.7 MB/s\u001b[0m eta \u001b[36m0:00:00\u001b[0m\n",
      "\u001b[2K   \u001b[90m━━━━━━━━━━━━━━━━━━━━━━━━━━━━━━━━━━━━━━━━\u001b[0m \u001b[32m1.4/1.4 MB\u001b[0m \u001b[31m35.3 MB/s\u001b[0m eta \u001b[36m0:00:00\u001b[0m\n",
      "\u001b[2K   \u001b[90m━━━━━━━━━━━━━━━━━━━━━━━━━━━━━━━━━━━━━━━━\u001b[0m \u001b[32m1.9/1.9 MB\u001b[0m \u001b[31m62.9 MB/s\u001b[0m eta \u001b[36m0:00:00\u001b[0m\n",
      "\u001b[2K   \u001b[90m━━━━━━━━━━━━━━━━━━━━━━━━━━━━━━━━━━━━━━━━\u001b[0m \u001b[32m103.3/103.3 kB\u001b[0m \u001b[31m10.1 MB/s\u001b[0m eta \u001b[36m0:00:00\u001b[0m\n",
      "\u001b[2K   \u001b[90m━━━━━━━━━━━━━━━━━━━━━━━━━━━━━━━━━━━━━━━━\u001b[0m \u001b[32m16.5/16.5 MB\u001b[0m \u001b[31m72.3 MB/s\u001b[0m eta \u001b[36m0:00:00\u001b[0m\n",
      "\u001b[2K   \u001b[90m━━━━━━━━━━━━━━━━━━━━━━━━━━━━━━━━━━━━━━━━\u001b[0m \u001b[32m72.5/72.5 kB\u001b[0m \u001b[31m6.8 MB/s\u001b[0m eta \u001b[36m0:00:00\u001b[0m\n",
      "\u001b[2K   \u001b[90m━━━━━━━━━━━━━━━━━━━━━━━━━━━━━━━━━━━━━━━━\u001b[0m \u001b[32m131.9/131.9 kB\u001b[0m \u001b[31m11.0 MB/s\u001b[0m eta \u001b[36m0:00:00\u001b[0m\n",
      "\u001b[2K   \u001b[90m━━━━━━━━━━━━━━━━━━━━━━━━━━━━━━━━━━━━━━━━\u001b[0m \u001b[32m65.7/65.7 kB\u001b[0m \u001b[31m5.5 MB/s\u001b[0m eta \u001b[36m0:00:00\u001b[0m\n",
      "\u001b[2K   \u001b[90m━━━━━━━━━━━━━━━━━━━━━━━━━━━━━━━━━━━━━━━━\u001b[0m \u001b[32m208.0/208.0 kB\u001b[0m \u001b[31m20.3 MB/s\u001b[0m eta \u001b[36m0:00:00\u001b[0m\n",
      "\u001b[2K   \u001b[90m━━━━━━━━━━━━━━━━━━━━━━━━━━━━━━━━━━━━━━━━\u001b[0m \u001b[32m105.4/105.4 kB\u001b[0m \u001b[31m10.3 MB/s\u001b[0m eta \u001b[36m0:00:00\u001b[0m\n",
      "\u001b[2K   \u001b[90m━━━━━━━━━━━━━━━━━━━━━━━━━━━━━━━━━━━━━━━━\u001b[0m \u001b[32m42.8/42.8 MB\u001b[0m \u001b[31m15.5 MB/s\u001b[0m eta \u001b[36m0:00:00\u001b[0m\n",
      "\u001b[2K   \u001b[90m━━━━━━━━━━━━━━━━━━━━━━━━━━━━━━━━━━━━━━━━\u001b[0m \u001b[32m71.6/71.6 kB\u001b[0m \u001b[31m5.6 MB/s\u001b[0m eta \u001b[36m0:00:00\u001b[0m\n",
      "\u001b[2K   \u001b[90m━━━━━━━━━━━━━━━━━━━━━━━━━━━━━━━━━━━━━━━━\u001b[0m \u001b[32m64.7/64.7 kB\u001b[0m \u001b[31m5.7 MB/s\u001b[0m eta \u001b[36m0:00:00\u001b[0m\n",
      "\u001b[2K   \u001b[90m━━━━━━━━━━━━━━━━━━━━━━━━━━━━━━━━━━━━━━━━\u001b[0m \u001b[32m510.8/510.8 kB\u001b[0m \u001b[31m36.4 MB/s\u001b[0m eta \u001b[36m0:00:00\u001b[0m\n",
      "\u001b[2K   \u001b[90m━━━━━━━━━━━━━━━━━━━━━━━━━━━━━━━━━━━━━━━━\u001b[0m \u001b[32m50.9/50.9 kB\u001b[0m \u001b[31m3.2 MB/s\u001b[0m eta \u001b[36m0:00:00\u001b[0m\n",
      "\u001b[2K   \u001b[90m━━━━━━━━━━━━━━━━━━━━━━━━━━━━━━━━━━━━━━━━\u001b[0m \u001b[32m4.7/4.7 MB\u001b[0m \u001b[31m85.9 MB/s\u001b[0m eta \u001b[36m0:00:00\u001b[0m\n",
      "\u001b[2K   \u001b[90m━━━━━━━━━━━━━━━━━━━━━━━━━━━━━━━━━━━━━━━━\u001b[0m \u001b[32m452.2/452.2 kB\u001b[0m \u001b[31m35.3 MB/s\u001b[0m eta \u001b[36m0:00:00\u001b[0m\n",
      "\u001b[2K   \u001b[90m━━━━━━━━━━━━━━━━━━━━━━━━━━━━━━━━━━━━━━━━\u001b[0m \u001b[32m46.0/46.0 kB\u001b[0m \u001b[31m2.2 MB/s\u001b[0m eta \u001b[36m0:00:00\u001b[0m\n",
      "\u001b[2K   \u001b[90m━━━━━━━━━━━━━━━━━━━━━━━━━━━━━━━━━━━━━━━━\u001b[0m \u001b[32m86.8/86.8 kB\u001b[0m \u001b[31m8.4 MB/s\u001b[0m eta \u001b[36m0:00:00\u001b[0m\n",
      "\u001b[?25h  Building wheel for pypika (pyproject.toml) ... \u001b[?25l\u001b[?25hdone\n",
      "\u001b[31mERROR: pip's dependency resolver does not currently take into account all the packages that are installed. This behaviour is the source of the following dependency conflicts.\n",
      "google-colab 1.0.0 requires requests==2.32.4, but you have requests 2.32.5 which is incompatible.\n",
      "pylibcudf-cu12 25.6.0 requires pyarrow<20.0.0a0,>=14.0.0; platform_machine == \"x86_64\", but you have pyarrow 21.0.0 which is incompatible.\n",
      "cudf-cu12 25.6.0 requires pyarrow<20.0.0a0,>=14.0.0; platform_machine == \"x86_64\", but you have pyarrow 21.0.0 which is incompatible.\n",
      "google-generativeai 0.8.5 requires google-ai-generativelanguage==0.6.15, but you have google-ai-generativelanguage 0.7.0 which is incompatible.\u001b[0m\u001b[31m\n",
      "\u001b[0mIf core libs upgraded, consider Runtime > Restart runtime.\n"
     ]
    }
   ],
   "source": [
    "!pip -q install -U langchain langchain-community chromadb pypdf \\\n",
    "                   sentence-transformers transformers datasets evaluate peft accelerate tiktoken \\\n",
    "                   langchain-google-genai google-genai\n",
    "print(\"If core libs upgraded, consider Runtime > Restart runtime.\")"
   ]
  },
  {
   "cell_type": "markdown",
   "id": "N0jO7gsqNtV9",
   "metadata": {
    "id": "N0jO7gsqNtV9"
   },
   "source": [
    "### 2) Keys & Imports"
   ]
  },
  {
   "cell_type": "code",
   "execution_count": 2,
   "id": "ZbA5qw8PNtV-",
   "metadata": {},
   "outputs": [
    {
     "name": "stdout",
     "output_type": "stream",
     "text": [
      "Gemini API key: ··········\n",
      "Env ready.\n"
     ]
    }
   ],
   "source": [
    "import os, getpass, json, sys, platform, pathlib, datetime, importlib, hashlib, torch\n",
    "\n",
    "# Reset & set ONE AI Studio key (starts with 'AIza...')\n",
    "for k in [\"GOOGLE_API_KEY\", \"GEMINI_API_KEY\"]:\n",
    "    os.environ.pop(k, None)\n",
    "os.environ[\"GOOGLE_API_KEY\"] = getpass.getpass(\"Gemini API key: \").strip()\n",
    "\n",
    "from langchain.text_splitter import RecursiveCharacterTextSplitter\n",
    "from langchain_community.document_loaders import PyPDFLoader, TextLoader\n",
    "from langchain_community.vectorstores import Chroma\n",
    "from langchain_community.embeddings import SentenceTransformerEmbeddings\n",
    "from langchain_google_genai import ChatGoogleGenerativeAI\n",
    "from langchain.chains import RetrievalQA\n",
    "from langchain.llms.huggingface_pipeline import HuggingFacePipeline\n",
    "\n",
    "from datasets import load_dataset\n",
    "import evaluate\n",
    "from transformers import (AutoModelForSeq2SeqLM, AutoTokenizer,\n",
    "                          DataCollatorForSeq2Seq, Trainer, TrainingArguments, pipeline)\n",
    "from peft import LoraConfig, get_peft_model, PeftModel\n",
    "\n",
    "pathlib.Path(\"data\").mkdir(exist_ok=True)\n",
    "pathlib.Path(\"artifacts/ft\").mkdir(parents=True, exist_ok=True)\n",
    "print(\"Env ready.\")"
   ]
  },
  {
   "cell_type": "code",
   "execution_count": 3,
   "id": "poi3FO0tOotR",
   "metadata": {},
   "outputs": [
    {
     "name": "stdout",
     "output_type": "stream",
     "text": [
      "Gemini ping: Pong is a table tennis-inspired arcade g\n"
     ]
    }
   ],
   "source": [
    "from google import genai\n",
    "try:\n",
    "    _client = genai.Client(api_key=os.environ[\"GOOGLE_API_KEY\"])\n",
    "    _resp = _client.models.generate_content(model=\"gemini-1.5-flash\", contents=\"pong?\")\n",
    "    print(\"Gemini ping:\", _resp.text[:40])\n",
    "except Exception as e:\n",
    "    print(\"Gemini ping failed:\", e)"
   ]
  },
  {
   "cell_type": "markdown",
   "id": "U8IvJWZkNtV_",
   "metadata": {
    "id": "U8IvJWZkNtV_"
   },
   "source": [
    "### 3) Env log → env_rag.json"
   ]
  },
  {
   "cell_type": "code",
   "execution_count": 4,
   "id": "ZkqRPLxaNtWA",
   "metadata": {},
   "outputs": [
    {
     "name": "stdout",
     "output_type": "stream",
     "text": [
      "{\n",
      "  \"timestamp\": \"2025-09-19T04:28:24.204674\",\n",
      "  \"python\": \"3.12.11 (main, Jun  4 2025, 08:56:18) [GCC 11.4.0]\",\n",
      "  \"platform\": \"Linux-6.1.123+-x86_64-with-glibc2.35\",\n",
      "  \"cuda_available\": true,\n",
      "  \"packages\": {\n",
      "    \"langchain\": \"0.3.27\",\n",
      "    \"langchain_community\": \"0.3.29\",\n",
      "    \"chromadb\": \"1.1.0\",\n",
      "    \"tiktoken\": \"0.11.0\",\n",
      "    \"transformers\": \"4.56.1\",\n",
      "    \"datasets\": \"4.1.1\",\n",
      "    \"evaluate\": \"0.4.6\",\n",
      "    \"peft\": \"0.17.1\",\n",
      "    \"sentence_transformers\": \"5.1.0\",\n",
      "    \"langchain_google_genai\": \"unknown\",\n",
      "    \"google.genai\": \"1.38.0\"\n",
      "  }\n",
      "}\n"
     ]
    }
   ],
   "source": [
    "def pv(m):\n",
    "    try:\n",
    "        import importlib\n",
    "        mod = importlib.import_module(m)\n",
    "        return getattr(mod, \"__version__\", \"unknown\")\n",
    "    except:\n",
    "        return \"not installed\"\n",
    "\n",
    "env = {\n",
    "  \"timestamp\": datetime.datetime.now().isoformat(),\n",
    "  \"python\": sys.version,\n",
    "  \"platform\": platform.platform(),\n",
    "  \"cuda_available\": torch.cuda.is_available(),\n",
    "  \"packages\": {m: pv(m) for m in [\n",
    "    \"langchain\",\"langchain_community\",\"chromadb\",\"tiktoken\",\"transformers\",\n",
    "    \"datasets\",\"evaluate\",\"peft\",\"sentence_transformers\",\"langchain_google_genai\",\"google.genai\"\n",
    "  ]}\n",
    "}\n",
    "json.dump(env, open(\"env_rag.json\",\"w\"), indent=2)\n",
    "print(json.dumps(env, indent=2))"
   ]
  },
  {
   "cell_type": "markdown",
   "id": "E3-v38EQNtWA",
   "metadata": {
    "id": "E3-v38EQNtWA"
   },
   "source": [
    "### 4) Upload & Load project docs, Chunk, Build Chroma"
   ]
  },
  {
   "cell_type": "code",
   "execution_count": 5,
   "id": "5XxeQ1PfNtWB",
   "metadata": {},
   "outputs": [
    {
     "data": {
      "text/html": [
       "\n",
       "     <input type=\"file\" id=\"files-9a5fbcbd-66c6-4409-834d-814a83c272ff\" name=\"files[]\" multiple disabled\n",
       "        style=\"border:none\" />\n",
       "     <output id=\"result-9a5fbcbd-66c6-4409-834d-814a83c272ff\">\n",
       "      Upload widget is only available when the cell has been executed in the\n",
       "      current browser session. Please rerun this cell to enable.\n",
       "      </output>\n",
       "      <script>// Copyright 2017 Google LLC\n",
       "//\n",
       "// Licensed under the Apache License, Version 2.0 (the \"License\");\n",
       "// you may not use this file except in compliance with the License.\n",
       "// You may obtain a copy of the License at\n",
       "//\n",
       "//      http://www.apache.org/licenses/LICENSE-2.0\n",
       "//\n",
       "// Unless required by applicable law or agreed to in writing, software\n",
       "// distributed under the License is distributed on an \"AS IS\" BASIS,\n",
       "// WITHOUT WARRANTIES OR CONDITIONS OF ANY KIND, either express or implied.\n",
       "// See the License for the specific language governing permissions and\n",
       "// limitations under the License.\n",
       "\n",
       "/**\n",
       " * @fileoverview Helpers for google.colab Python module.\n",
       " */\n",
       "(function(scope) {\n",
       "function span(text, styleAttributes = {}) {\n",
       "  const element = document.createElement('span');\n",
       "  element.textContent = text;\n",
       "  for (const key of Object.keys(styleAttributes)) {\n",
       "    element.style[key] = styleAttributes[key];\n",
       "  }\n",
       "  return element;\n",
       "}\n",
       "\n",
       "// Max number of bytes which will be uploaded at a time.\n",
       "const MAX_PAYLOAD_SIZE = 100 * 1024;\n",
       "\n",
       "function _uploadFiles(inputId, outputId) {\n",
       "  const steps = uploadFilesStep(inputId, outputId);\n",
       "  const outputElement = document.getElementById(outputId);\n",
       "  // Cache steps on the outputElement to make it available for the next call\n",
       "  // to uploadFilesContinue from Python.\n",
       "  outputElement.steps = steps;\n",
       "\n",
       "  return _uploadFilesContinue(outputId);\n",
       "}\n",
       "\n",
       "// This is roughly an async generator (not supported in the browser yet),\n",
       "// where there are multiple asynchronous steps and the Python side is going\n",
       "// to poll for completion of each step.\n",
       "// This uses a Promise to block the python side on completion of each step,\n",
       "// then passes the result of the previous step as the input to the next step.\n",
       "function _uploadFilesContinue(outputId) {\n",
       "  const outputElement = document.getElementById(outputId);\n",
       "  const steps = outputElement.steps;\n",
       "\n",
       "  const next = steps.next(outputElement.lastPromiseValue);\n",
       "  return Promise.resolve(next.value.promise).then((value) => {\n",
       "    // Cache the last promise value to make it available to the next\n",
       "    // step of the generator.\n",
       "    outputElement.lastPromiseValue = value;\n",
       "    return next.value.response;\n",
       "  });\n",
       "}\n",
       "\n",
       "/**\n",
       " * Generator function which is called between each async step of the upload\n",
       " * process.\n",
       " * @param {string} inputId Element ID of the input file picker element.\n",
       " * @param {string} outputId Element ID of the output display.\n",
       " * @return {!Iterable<!Object>} Iterable of next steps.\n",
       " */\n",
       "function* uploadFilesStep(inputId, outputId) {\n",
       "  const inputElement = document.getElementById(inputId);\n",
       "  inputElement.disabled = false;\n",
       "\n",
       "  const outputElement = document.getElementById(outputId);\n",
       "  outputElement.innerHTML = '';\n",
       "\n",
       "  const pickedPromise = new Promise((resolve) => {\n",
       "    inputElement.addEventListener('change', (e) => {\n",
       "      resolve(e.target.files);\n",
       "    });\n",
       "  });\n",
       "\n",
       "  const cancel = document.createElement('button');\n",
       "  inputElement.parentElement.appendChild(cancel);\n",
       "  cancel.textContent = 'Cancel upload';\n",
       "  const cancelPromise = new Promise((resolve) => {\n",
       "    cancel.onclick = () => {\n",
       "      resolve(null);\n",
       "    };\n",
       "  });\n",
       "\n",
       "  // Wait for the user to pick the files.\n",
       "  const files = yield {\n",
       "    promise: Promise.race([pickedPromise, cancelPromise]),\n",
       "    response: {\n",
       "      action: 'starting',\n",
       "    }\n",
       "  };\n",
       "\n",
       "  cancel.remove();\n",
       "\n",
       "  // Disable the input element since further picks are not allowed.\n",
       "  inputElement.disabled = true;\n",
       "\n",
       "  if (!files) {\n",
       "    return {\n",
       "      response: {\n",
       "        action: 'complete',\n",
       "      }\n",
       "    };\n",
       "  }\n",
       "\n",
       "  for (const file of files) {\n",
       "    const li = document.createElement('li');\n",
       "    li.append(span(file.name, {fontWeight: 'bold'}));\n",
       "    li.append(span(\n",
       "        `(${file.type || 'n/a'}) - ${file.size} bytes, ` +\n",
       "        `last modified: ${\n",
       "            file.lastModifiedDate ? file.lastModifiedDate.toLocaleDateString() :\n",
       "                                    'n/a'} - `));\n",
       "    const percent = span('0% done');\n",
       "    li.appendChild(percent);\n",
       "\n",
       "    outputElement.appendChild(li);\n",
       "\n",
       "    const fileDataPromise = new Promise((resolve) => {\n",
       "      const reader = new FileReader();\n",
       "      reader.onload = (e) => {\n",
       "        resolve(e.target.result);\n",
       "      };\n",
       "      reader.readAsArrayBuffer(file);\n",
       "    });\n",
       "    // Wait for the data to be ready.\n",
       "    let fileData = yield {\n",
       "      promise: fileDataPromise,\n",
       "      response: {\n",
       "        action: 'continue',\n",
       "      }\n",
       "    };\n",
       "\n",
       "    // Use a chunked sending to avoid message size limits. See b/62115660.\n",
       "    let position = 0;\n",
       "    do {\n",
       "      const length = Math.min(fileData.byteLength - position, MAX_PAYLOAD_SIZE);\n",
       "      const chunk = new Uint8Array(fileData, position, length);\n",
       "      position += length;\n",
       "\n",
       "      const base64 = btoa(String.fromCharCode.apply(null, chunk));\n",
       "      yield {\n",
       "        response: {\n",
       "          action: 'append',\n",
       "          file: file.name,\n",
       "          data: base64,\n",
       "        },\n",
       "      };\n",
       "\n",
       "      let percentDone = fileData.byteLength === 0 ?\n",
       "          100 :\n",
       "          Math.round((position / fileData.byteLength) * 100);\n",
       "      percent.textContent = `${percentDone}% done`;\n",
       "\n",
       "    } while (position < fileData.byteLength);\n",
       "  }\n",
       "\n",
       "  // All done.\n",
       "  yield {\n",
       "    response: {\n",
       "      action: 'complete',\n",
       "    }\n",
       "  };\n",
       "}\n",
       "\n",
       "scope.google = scope.google || {};\n",
       "scope.google.colab = scope.google.colab || {};\n",
       "scope.google.colab._files = {\n",
       "  _uploadFiles,\n",
       "  _uploadFilesContinue,\n",
       "};\n",
       "})(self);\n",
       "</script> "
      ],
      "text/plain": [
       "<IPython.core.display.HTML object>"
      ]
     },
     "metadata": {},
     "output_type": "display_data"
    },
    {
     "name": "stdout",
     "output_type": "stream",
     "text": [
      "Saving NeurIPS-2024-can-large-language-model-agents-simulate-human-trust-behavior-Paper-Conference.pdf to NeurIPS-2024-can-large-language-model-agents-simulate-human-trust-behavior-Paper-Conference.pdf\n",
      "Saving NeurIPS-2024-richelieu-self-evolving-llm-based-agents-for-ai-diplomacy-Paper-Conference.pdf to NeurIPS-2024-richelieu-self-evolving-llm-based-agents-for-ai-diplomacy-Paper-Conference.pdf\n",
      "Saving NeurIPS-2024-mdagents-an-adaptive-collaboration-of-llms-for-medical-decision-making-Paper-Conference.pdf to NeurIPS-2024-mdagents-an-adaptive-collaboration-of-llms-for-medical-decision-making-Paper-Conference.pdf\n",
      "Uploaded: ['NeurIPS-2024-can-large-language-model-agents-simulate-human-trust-behavior-Paper-Conference.pdf', 'NeurIPS-2024-richelieu-self-evolving-llm-based-agents-for-ai-diplomacy-Paper-Conference.pdf', 'NeurIPS-2024-mdagents-an-adaptive-collaboration-of-llms-for-medical-decision-making-Paper-Conference.pdf']\n",
      "Docs: 126 Chunks: 1066\n"
     ]
    },
    {
     "name": "stderr",
     "output_type": "stream",
     "text": [
      "/tmp/ipython-input-4098422149.py:42: LangChainDeprecationWarning: The class `HuggingFaceEmbeddings` was deprecated in LangChain 0.2.2 and will be removed in 1.0. An updated version of the class exists in the :class:`~langchain-huggingface package and should be used instead. To use it run `pip install -U :class:`~langchain-huggingface` and import as `from :class:`~langchain_huggingface import HuggingFaceEmbeddings``.\n",
      "  emb_minilm = SentenceTransformerEmbeddings(model_name=\"sentence-transformers/all-MiniLM-L6-v2\")\n",
      "/usr/local/lib/python3.12/dist-packages/huggingface_hub/utils/_auth.py:94: UserWarning: \n",
      "The secret `HF_TOKEN` does not exist in your Colab secrets.\n",
      "To authenticate with the Hugging Face Hub, create a token in your settings tab (https://huggingface.co/settings/tokens), set it as secret in your Google Colab and restart your session.\n",
      "You will be able to reuse this secret in all of your notebooks.\n",
      "Please note that authentication is recommended but still optional to access public models or datasets.\n",
      "  warnings.warn(\n"
     ]
    },
    {
     "data": {
      "application/vnd.jupyter.widget-view+json": {
       "model_id": "cc52c939258447648279a55a1196c8c0",
       "version_major": 2,
       "version_minor": 0
      },
      "text/plain": [
       "modules.json:   0%|          | 0.00/349 [00:00<?, ?B/s]"
      ]
     },
     "metadata": {},
     "output_type": "display_data"
    },
    {
     "data": {
      "application/vnd.jupyter.widget-view+json": {
       "model_id": "1dfcf025aa0b4571b09f89729a5e0c11",
       "version_major": 2,
       "version_minor": 0
      },
      "text/plain": [
       "config_sentence_transformers.json:   0%|          | 0.00/116 [00:00<?, ?B/s]"
      ]
     },
     "metadata": {},
     "output_type": "display_data"
    },
    {
     "data": {
      "application/vnd.jupyter.widget-view+json": {
       "model_id": "7d65ee402efc4b5687421191f0221f7e",
       "version_major": 2,
       "version_minor": 0
      },
      "text/plain": [
       "README.md: 0.00B [00:00, ?B/s]"
      ]
     },
     "metadata": {},
     "output_type": "display_data"
    },
    {
     "data": {
      "application/vnd.jupyter.widget-view+json": {
       "model_id": "2316f71499854acd99d6ae90bc79b019",
       "version_major": 2,
       "version_minor": 0
      },
      "text/plain": [
       "sentence_bert_config.json:   0%|          | 0.00/53.0 [00:00<?, ?B/s]"
      ]
     },
     "metadata": {},
     "output_type": "display_data"
    },
    {
     "data": {
      "application/vnd.jupyter.widget-view+json": {
       "model_id": "e6a9607203e14a679acb24c601a9497f",
       "version_major": 2,
       "version_minor": 0
      },
      "text/plain": [
       "config.json:   0%|          | 0.00/612 [00:00<?, ?B/s]"
      ]
     },
     "metadata": {},
     "output_type": "display_data"
    },
    {
     "data": {
      "application/vnd.jupyter.widget-view+json": {
       "model_id": "d3b4312e64b84fb587934a25bf720493",
       "version_major": 2,
       "version_minor": 0
      },
      "text/plain": [
       "model.safetensors:   0%|          | 0.00/90.9M [00:00<?, ?B/s]"
      ]
     },
     "metadata": {},
     "output_type": "display_data"
    },
    {
     "data": {
      "application/vnd.jupyter.widget-view+json": {
       "model_id": "5e3b4170da4c4dc0923170a8ec772c01",
       "version_major": 2,
       "version_minor": 0
      },
      "text/plain": [
       "tokenizer_config.json:   0%|          | 0.00/350 [00:00<?, ?B/s]"
      ]
     },
     "metadata": {},
     "output_type": "display_data"
    },
    {
     "data": {
      "application/vnd.jupyter.widget-view+json": {
       "model_id": "5460f8c3fd984857b8e9624b0c417876",
       "version_major": 2,
       "version_minor": 0
      },
      "text/plain": [
       "vocab.txt: 0.00B [00:00, ?B/s]"
      ]
     },
     "metadata": {},
     "output_type": "display_data"
    },
    {
     "data": {
      "application/vnd.jupyter.widget-view+json": {
       "model_id": "e56846d6ed8a40a6a95130cb5abee368",
       "version_major": 2,
       "version_minor": 0
      },
      "text/plain": [
       "tokenizer.json: 0.00B [00:00, ?B/s]"
      ]
     },
     "metadata": {},
     "output_type": "display_data"
    },
    {
     "data": {
      "application/vnd.jupyter.widget-view+json": {
       "model_id": "34d43bd61324421e9e6edfa876330409",
       "version_major": 2,
       "version_minor": 0
      },
      "text/plain": [
       "special_tokens_map.json:   0%|          | 0.00/112 [00:00<?, ?B/s]"
      ]
     },
     "metadata": {},
     "output_type": "display_data"
    },
    {
     "data": {
      "application/vnd.jupyter.widget-view+json": {
       "model_id": "7d11225f98c3462aaf1fd7cddcda3409",
       "version_major": 2,
       "version_minor": 0
      },
      "text/plain": [
       "config.json:   0%|          | 0.00/190 [00:00<?, ?B/s]"
      ]
     },
     "metadata": {},
     "output_type": "display_data"
    },
    {
     "name": "stdout",
     "output_type": "stream",
     "text": [
      "Vector store ready (MiniLM, 500/100).\n"
     ]
    },
    {
     "name": "stderr",
     "output_type": "stream",
     "text": [
      "/tmp/ipython-input-4098422149.py:45: LangChainDeprecationWarning: Since Chroma 0.4.x the manual persistence method is no longer supported as docs are automatically persisted.\n",
      "  vs.persist()\n"
     ]
    }
   ],
   "source": [
    "try:\n",
    "    from google.colab import files\n",
    "    up = files.upload()\n",
    "    for n,c in up.items():\n",
    "        open(os.path.join(\"data\", n), \"wb\").write(c)\n",
    "    print(\"Uploaded:\", list(up.keys()))\n",
    "except Exception as e:\n",
    "    print(\"Colab upload UI not available:\", e)\n",
    "\n",
    "# Load docs\n",
    "def load_docs(folder=\"data\"):\n",
    "    docs=[]\n",
    "    for fname in os.listdir(folder):\n",
    "        p=os.path.join(folder,fname)\n",
    "        if not os.path.isfile(p):\n",
    "            continue\n",
    "        ext=fname.lower().split(\".\")[-1]\n",
    "        try:\n",
    "            if ext==\"pdf\":\n",
    "                loader=PyPDFLoader(p)\n",
    "            elif ext in [\"txt\",\"md\",\"markdown\"]:\n",
    "                loader=TextLoader(p, encoding=\"utf-8\")\n",
    "            else:\n",
    "                print(\"Skip\", fname);\n",
    "                continue\n",
    "            docs += loader.load()\n",
    "        except Exception as e:\n",
    "            print(\"Fail\", fname, e)\n",
    "    return docs\n",
    "\n",
    "raw_docs = load_docs(\"data\")\n",
    "assert len(raw_docs) > 0, \"No supported documents loaded. Upload at least one PDF/TXT.\"\n",
    "\n",
    "# Default chunking (500 / 100)\n",
    "CHUNK_SIZE, CHUNK_OVERLAP = 500, 100\n",
    "splitter = RecursiveCharacterTextSplitter(chunk_size=CHUNK_SIZE, chunk_overlap=CHUNK_OVERLAP)\n",
    "splits = splitter.split_documents(raw_docs)\n",
    "print(\"Docs:\", len(raw_docs), \"Chunks:\", len(splits))\n",
    "\n",
    "# Chroma with MiniLM (baseline embeddings)\n",
    "from shutil import rmtree\n",
    "emb_minilm = SentenceTransformerEmbeddings(model_name=\"sentence-transformers/all-MiniLM-L6-v2\")\n",
    "rmtree(\"./chroma_minilm\", ignore_errors=True)\n",
    "vs = Chroma.from_documents(splits, embedding=emb_minilm, persist_directory=\"./chroma_minilm\")\n",
    "vs.persist()\n",
    "retriever = vs.as_retriever(search_kwargs={\"k\":4})\n",
    "print(\"Vector store ready (MiniLM, 500/100).\")"
   ]
  },
  {
   "cell_type": "markdown",
   "id": "41DBY7_wNtWB",
   "metadata": {
    "id": "41DBY7_wNtWB"
   },
   "source": [
    "### 5) RAG Chains: Gemini & Local FLAN-T5 (pre-FT)"
   ]
  },
  {
   "cell_type": "code",
   "execution_count": 6,
   "id": "t4qtmx42NtWC",
   "metadata": {},
   "outputs": [
    {
     "data": {
      "application/vnd.jupyter.widget-view+json": {
       "model_id": "dbc64cf9dcde422b8dbb500b7f49d486",
       "version_major": 2,
       "version_minor": 0
      },
      "text/plain": [
       "tokenizer_config.json: 0.00B [00:00, ?B/s]"
      ]
     },
     "metadata": {},
     "output_type": "display_data"
    },
    {
     "data": {
      "application/vnd.jupyter.widget-view+json": {
       "model_id": "b7f044b7225f4744be913c213617fa70",
       "version_major": 2,
       "version_minor": 0
      },
      "text/plain": [
       "spiece.model:   0%|          | 0.00/792k [00:00<?, ?B/s]"
      ]
     },
     "metadata": {},
     "output_type": "display_data"
    },
    {
     "data": {
      "application/vnd.jupyter.widget-view+json": {
       "model_id": "bb9fc492262f4bed88b2d8c5ba5e8d2c",
       "version_major": 2,
       "version_minor": 0
      },
      "text/plain": [
       "tokenizer.json: 0.00B [00:00, ?B/s]"
      ]
     },
     "metadata": {},
     "output_type": "display_data"
    },
    {
     "data": {
      "application/vnd.jupyter.widget-view+json": {
       "model_id": "c3c25c178cd4455da0579bbc1809cd04",
       "version_major": 2,
       "version_minor": 0
      },
      "text/plain": [
       "special_tokens_map.json: 0.00B [00:00, ?B/s]"
      ]
     },
     "metadata": {},
     "output_type": "display_data"
    },
    {
     "data": {
      "application/vnd.jupyter.widget-view+json": {
       "model_id": "99c5af56803d49e69833141744e212dd",
       "version_major": 2,
       "version_minor": 0
      },
      "text/plain": [
       "config.json: 0.00B [00:00, ?B/s]"
      ]
     },
     "metadata": {},
     "output_type": "display_data"
    },
    {
     "data": {
      "application/vnd.jupyter.widget-view+json": {
       "model_id": "8fe3c95986cd484584d68d08d785e588",
       "version_major": 2,
       "version_minor": 0
      },
      "text/plain": [
       "model.safetensors:   0%|          | 0.00/308M [00:00<?, ?B/s]"
      ]
     },
     "metadata": {},
     "output_type": "display_data"
    },
    {
     "data": {
      "application/vnd.jupyter.widget-view+json": {
       "model_id": "e3521a36235d429ca392fa1acb02862f",
       "version_major": 2,
       "version_minor": 0
      },
      "text/plain": [
       "generation_config.json:   0%|          | 0.00/147 [00:00<?, ?B/s]"
      ]
     },
     "metadata": {},
     "output_type": "display_data"
    },
    {
     "name": "stderr",
     "output_type": "stream",
     "text": [
      "Device set to use cuda:0\n",
      "/tmp/ipython-input-3118977698.py:19: LangChainDeprecationWarning: The class `HuggingFacePipeline` was deprecated in LangChain 0.0.37 and will be removed in 1.0. An updated version of the class exists in the :class:`~langchain-huggingface package and should be used instead. To use it run `pip install -U :class:`~langchain-huggingface` and import as `from :class:`~langchain_huggingface import HuggingFacePipeline``.\n",
      "  llm_local = HuggingFacePipeline(pipeline=pipe_base)\n"
     ]
    },
    {
     "name": "stdout",
     "output_type": "stream",
     "text": [
      "\n",
      "Q: Define Trust Rate in the MAP Trust Game in one sentence.\n",
      "A: Trust Rate is the percentage of trustors who choose to trust the trustee, given a specific probability (p) of the trustee also choosing to trust.\n",
      "Sources: ['data/NeurIPS-2024-can-large-language-model-agents-simulate-human-trust-behavior-Paper-Conference.pdf', 'data/NeurIPS-2024-can-large-language-model-agents-simulate-human-trust-behavior-Paper-Conference.pdf', 'data/NeurIPS-2024-can-large-language-model-agents-simulate-human-trust-behavior-Paper-Conference.pdf']\n",
      "\n",
      "Q: What do the Moderator and Recruiter do in MDAgents?\n",
      "A: Answer the question: 3.1 Agent Roles Moderator. The moderator agent functions as a general practitioner (GP) or emergency department doctor who first triages the medical query. This agent assesses the complexity of the problem and determines whether it should be handled by a single agent, a MDT, or an ICT. The moderator ensures the appropriate pathway be selected based on the query’s complexity and oversees the entire decision-making process. decision-making process. Recruiter. The recruiter agent is responsible for assembling the appropriate team of specialist agents based on the complexity assessment of the moderator. The recruiter may assign a single PCP agent for low-complexity cases, while MDT or ICT with relevant expertise will be formed for moderate and high-complexity cases. General Doctor/Specialist. These agents are domain-specific or general physicians recruited by the performance and characteristics of our MDAgents framework. You are a role who description. Your job is to collaborate with other medical experts in a team. Agent initialization prompt\n"
     ]
    }
   ],
   "source": [
    "llm_gemini = ChatGoogleGenerativeAI(\n",
    "    model=\"gemini-1.5-flash\",\n",
    "    temperature=0.2,\n",
    "    api_key=os.environ[\"GOOGLE_API_KEY\"],\n",
    ")\n",
    "\n",
    "qa_gemini = RetrievalQA.from_chain_type(\n",
    "    llm=llm_gemini, chain_type=\"stuff\", retriever=retriever, return_source_documents=True\n",
    ")\n",
    "\n",
    "# Local FLAN-T5 (pre-FT)\n",
    "base_model = \"google/flan-t5-small\"\n",
    "tok = AutoTokenizer.from_pretrained(base_model)\n",
    "base = AutoModelForSeq2SeqLM.from_pretrained(base_model)\n",
    "pipe_base = pipeline(\n",
    "    \"text2text-generation\", model=base, tokenizer=tok, max_new_tokens=256,\n",
    "    device=0 if torch.cuda.is_available() else -1\n",
    ")\n",
    "llm_local = HuggingFacePipeline(pipeline=pipe_base)\n",
    "qa_local = RetrievalQA.from_chain_type(llm=llm_local, chain_type=\"stuff\", retriever=retriever)\n",
    "\n",
    "def ask(chain, q):\n",
    "    r = chain.invoke({\"query\": q})\n",
    "    print(\"\\nQ:\", q); print(\"A:\", r.get(\"result\",\"\"))\n",
    "    if \"source_documents\" in r:\n",
    "        srcs = [d.metadata.get(\"source\",\"?\") for d in r[\"source_documents\"][:3]]\n",
    "        print(\"Sources:\", srcs)\n",
    "\n",
    "# Quick, distinct one-liners\n",
    "ask(qa_gemini, \"Define Trust Rate in the MAP Trust Game in one sentence.\")\n",
    "ask(qa_local,  \"What do the Moderator and Recruiter do in MDAgents?\")"
   ]
  },
  {
   "cell_type": "markdown",
   "id": "46dEzzcuPMuY",
   "metadata": {
    "id": "46dEzzcuPMuY"
   },
   "source": [
    "# Chunk Sensitivity"
   ]
  },
  {
   "cell_type": "code",
   "execution_count": 7,
   "id": "ri4P9SoVPKM1",
   "metadata": {},
   "outputs": [
    {
     "name": "stdout",
     "output_type": "stream",
     "text": [
      "Small-chunk count: 1667\n",
      "\n",
      "[500/100]: The four stages of MDAgents are: 1) Medical complexity check; 2) Recruitment based on medical complexity; 3) Analysis and synthesis; 4) Final decision-making.\n",
      "[300/50]: The provided text mentions three stages of MDAgents: 1) Medical complexity check; 2)  (The second stage is not fully specified); and 3) (The third stage is also not fully specified).  A fourth stage is not named.\n"
     ]
    }
   ],
   "source": [
    "splitter_small = RecursiveCharacterTextSplitter(chunk_size=300, chunk_overlap=50)\n",
    "splits_small = splitter_small.split_documents(raw_docs)\n",
    "print(\"Small-chunk count:\", len(splits_small))\n",
    "\n",
    "from shutil import rmtree\n",
    "rmtree(\"./chroma_minilm_small\", ignore_errors=True)\n",
    "vs_small = Chroma.from_documents(splits_small, embedding=emb_minilm, persist_directory=\"./chroma_minilm_small\")\n",
    "vs_small.persist()\n",
    "retriever_small = vs_small.as_retriever(search_kwargs={\"k\":4})\n",
    "\n",
    "qa_gemini_small = RetrievalQA.from_chain_type(\n",
    "    llm=llm_gemini, chain_type=\"stuff\", retriever=retriever_small, return_source_documents=True\n",
    ")\n",
    "\n",
    "r_def = qa_gemini.invoke({\"query\":\"Name the four stages of MDAgents in order.\"})\n",
    "r_small = qa_gemini_small.invoke({\"query\":\"Name the four stages of MDAgents in order.\"})\n",
    "print(\"\\n[500/100]:\", r_def[\"result\"][:220])\n",
    "print(\"[300/50]:\", r_small[\"result\"][:220])"
   ]
  },
  {
   "cell_type": "markdown",
   "id": "iJTq1N2UNtWD",
   "metadata": {
    "id": "iJTq1N2UNtWD"
   },
   "source": [
    "### 6) Fine-Tune on online dataset (Hugging Face `squad`, sampled) with LoRA"
   ]
  },
  {
   "cell_type": "code",
   "execution_count": 11,
   "id": "pqIQAYf9NtWD",
   "metadata": {},
   "outputs": [
    {
     "data": {
      "application/vnd.jupyter.widget-view+json": {
       "model_id": "a5ff10f51f794ca4b4d3f327b8c47b21",
       "version_major": 2,
       "version_minor": 0
      },
      "text/plain": [
       "Map:   0%|          | 0/800 [00:00<?, ? examples/s]"
      ]
     },
     "metadata": {},
     "output_type": "display_data"
    },
    {
     "data": {
      "application/vnd.jupyter.widget-view+json": {
       "model_id": "0559a5c065f2477483b78c3695fd298b",
       "version_major": 2,
       "version_minor": 0
      },
      "text/plain": [
       "Map:   0%|          | 0/200 [00:00<?, ? examples/s]"
      ]
     },
     "metadata": {},
     "output_type": "display_data"
    },
    {
     "name": "stderr",
     "output_type": "stream",
     "text": [
      "/tmp/ipython-input-2730854656.py:86: FutureWarning: `tokenizer` is deprecated and will be removed in version 5.0.0 for `Trainer.__init__`. Use `processing_class` instead.\n",
      "  trainer = Trainer(\n"
     ]
    },
    {
     "data": {
      "text/html": [
       "\n",
       "    <div>\n",
       "      \n",
       "      <progress value='200' max='200' style='width:300px; height:20px; vertical-align: middle;'></progress>\n",
       "      [200/200 00:40, Epoch 1/1]\n",
       "    </div>\n",
       "    <table border=\"1\" class=\"dataframe\">\n",
       "  <thead>\n",
       " <tr style=\"text-align: left;\">\n",
       "      <th>Step</th>\n",
       "      <th>Training Loss</th>\n",
       "      <th>Validation Loss</th>\n",
       "    </tr>\n",
       "  </thead>\n",
       "  <tbody>\n",
       "    <tr>\n",
       "      <td>200</td>\n",
       "      <td>0.618400</td>\n",
       "      <td>0.425682</td>\n",
       "    </tr>\n",
       "  </tbody>\n",
       "</table><p>"
      ],
      "text/plain": [
       "<IPython.core.display.HTML object>"
      ]
     },
     "metadata": {},
     "output_type": "display_data"
    },
    {
     "data": {
      "text/html": [
       "\n",
       "    <div>\n",
       "      \n",
       "      <progress value='50' max='50' style='width:300px; height:20px; vertical-align: middle;'></progress>\n",
       "      [50/50 00:02]\n",
       "    </div>\n",
       "    "
      ],
      "text/plain": [
       "<IPython.core.display.HTML object>"
      ]
     },
     "metadata": {},
     "output_type": "display_data"
    },
    {
     "name": "stdout",
     "output_type": "stream",
     "text": [
      "Eval metrics (LoRA on SQuAD): {'eval_loss': 0.4256817698478699, 'eval_runtime': 2.7943, 'eval_samples_per_second': 71.573, 'eval_steps_per_second': 17.893, 'epoch': 1.0}\n",
      "{\n",
      "  \"base_model\": \"google/flan-t5-small\",\n",
      "  \"adapter_dir\": \"artifacts/ft/flan_t5_small_lora\",\n",
      "  \"dataset\": \"squad\",\n",
      "  \"train_n\": 800,\n",
      "  \"eval_n\": 200,\n",
      "  \"seed\": 42\n",
      "}\n"
     ]
    }
   ],
   "source": [
    "# =========================\n",
    "# 6) Fine-Tune on SQuAD with LoRA (W&B disabled, v4/v5-safe)\n",
    "# =========================\n",
    "import os\n",
    "from inspect import signature\n",
    "from datasets import load_dataset\n",
    "from transformers import DataCollatorForSeq2Seq, TrainingArguments, Trainer\n",
    "from peft import LoraConfig, get_peft_model\n",
    "from transformers import AutoModelForSeq2SeqLM\n",
    "\n",
    "# --- Disable W&B + misc telemetry ---\n",
    "os.environ[\"WANDB_DISABLED\"] = \"true\"\n",
    "os.environ[\"WANDB_MODE\"] = \"disabled\"\n",
    "os.environ[\"WANDB_SILENT\"] = \"true\"\n",
    "os.environ[\"HF_HUB_DISABLE_TELEMETRY\"] = \"1\"\n",
    "\n",
    "dataset_name = \"squad\"\n",
    "train_n, eval_n, seed = 800, 200, 42\n",
    "\n",
    "# 1) Load & sample\n",
    "ds = load_dataset(dataset_name)\n",
    "ds_tr = ds[\"train\"].shuffle(seed=seed).select(range(min(train_n, len(ds[\"train\"]))))\n",
    "ds_ev = ds[\"validation\"].shuffle(seed=seed).select(range(min(eval_n, len(ds[\"validation\"]))))\n",
    "\n",
    "# 2) Preprocess (no as_target_tokenizer; use text_target)\n",
    "def preprocess(ex):\n",
    "    ctx, q = ex[\"context\"], ex[\"question\"]\n",
    "    ans = ex[\"answers\"][\"text\"][0] if ex[\"answers\"][\"text\"] else \"\"\n",
    "    prompt = f\"Use the context to answer concisely.\\nContext: {ctx}\\nQuestion: {q}\\nAnswer:\"\n",
    "    model_in = tok(prompt, truncation=True, max_length=512)\n",
    "    labels = tok(text_target=ans, truncation=True, max_length=64)\n",
    "    model_in[\"labels\"] = labels[\"input_ids\"]\n",
    "    model_in[\"id\"] = ex[\"id\"]\n",
    "    return model_in\n",
    "\n",
    "proc_tr = ds_tr.map(preprocess, remove_columns=ds_tr.column_names)\n",
    "proc_ev = ds_ev.map(preprocess, remove_columns=ds_ev.column_names)\n",
    "\n",
    "# 3) Collator\n",
    "collator = DataCollatorForSeq2Seq(tokenizer=tok, model=base)\n",
    "\n",
    "# 4) Fresh base (avoid double-PEFT) + LoRA\n",
    "base_ft = AutoModelForSeq2SeqLM.from_pretrained(base_model)\n",
    "lora = LoraConfig(\n",
    "    r=16, lora_alpha=32, target_modules=[\"q\",\"k\",\"v\",\"o\"],\n",
    "    lora_dropout=0.05, bias=\"none\", task_type=\"SEQ_2_SEQ_LM\"\n",
    ")\n",
    "ft_model = get_peft_model(base_ft, lora)\n",
    "out_dir = \"artifacts/ft/flan_t5_small_lora\"\n",
    "\n",
    "# 5) TrainingArguments (v4/v5 compatibility + no reporting)\n",
    "TA = TrainingArguments\n",
    "ta_sig = signature(TA).parameters\n",
    "\n",
    "args_kwargs = dict(\n",
    "    output_dir=out_dir,\n",
    "    num_train_epochs=1,\n",
    "    per_device_train_batch_size=4,\n",
    "    per_device_eval_batch_size=4,\n",
    "    learning_rate=5e-4,\n",
    "    logging_steps=50,\n",
    "    eval_steps=200,\n",
    "    save_steps=200,\n",
    "    save_total_limit=2,\n",
    "    bf16=bool(torch.cuda.is_available()),\n",
    "    fp16=False,\n",
    ")\n",
    "\n",
    "# v4 uses evaluation_strategy; v5 uses eval_strategy\n",
    "if \"evaluation_strategy\" in ta_sig:\n",
    "    args_kwargs[\"evaluation_strategy\"] = \"steps\"\n",
    "elif \"eval_strategy\" in ta_sig:\n",
    "    args_kwargs[\"eval_strategy\"] = \"steps\"\n",
    "\n",
    "# Disable external reporting entirely\n",
    "if \"report_to\" in ta_sig:\n",
    "    args_kwargs[\"report_to\"] = \"none\"   # or [] in some versions\n",
    "\n",
    "# Only set if supported in your version\n",
    "if \"predict_with_generate\" in ta_sig:\n",
    "    args_kwargs[\"predict_with_generate\"] = True\n",
    "\n",
    "args = TA(**args_kwargs)\n",
    "\n",
    "# 6) Train + quick eval\n",
    "trainer = Trainer(\n",
    "    model=ft_model,\n",
    "    args=args,\n",
    "    train_dataset=proc_tr,\n",
    "    eval_dataset=proc_ev,\n",
    "    data_collator=collator,\n",
    "    tokenizer=tok,   # OK (warning only); v5 prefers processing_class\n",
    ")\n",
    "trainer.train()\n",
    "mets = trainer.evaluate()\n",
    "print(\"Eval metrics (LoRA on SQuAD):\", mets)\n",
    "\n",
    "# 7) Save adapter + tokenizer + run cfg\n",
    "trainer.model.save_pretrained(out_dir)\n",
    "tok.save_pretrained(out_dir)\n",
    "\n",
    "import json\n",
    "ft_cfg = {\n",
    "    \"base_model\": base_model,\n",
    "    \"adapter_dir\": out_dir,\n",
    "    \"dataset\": dataset_name,\n",
    "    \"train_n\": train_n,\n",
    "    \"eval_n\": eval_n,\n",
    "    \"seed\": seed,\n",
    "}\n",
    "json.dump(ft_cfg, open(\"ft_config.json\",\"w\"), indent=2)\n",
    "print(json.dumps(ft_cfg, indent=2))\n"
   ]
  },
  {
   "cell_type": "markdown",
   "id": "d_a8O0O-NtWE",
   "metadata": {
    "id": "d_a8O0O-NtWE"
   },
   "source": [
    "### 7) Merge & Evaluate (EM/F1 quick subset)"
   ]
  },
  {
   "cell_type": "code",
   "execution_count": 12,
   "id": "lvpVS0CpNtWE",
   "metadata": {},
   "outputs": [
    {
     "name": "stderr",
     "output_type": "stream",
     "text": [
      "Device set to use cuda:0\n"
     ]
    },
    {
     "data": {
      "application/vnd.jupyter.widget-view+json": {
       "model_id": "550356fd2adb49df9b77dc5ae8b1f726",
       "version_major": 2,
       "version_minor": 0
      },
      "text/plain": [
       "Downloading builder script: 0.00B [00:00, ?B/s]"
      ]
     },
     "metadata": {},
     "output_type": "display_data"
    },
    {
     "data": {
      "application/vnd.jupyter.widget-view+json": {
       "model_id": "1bd52b63dce04d32a442ab197095bdf7",
       "version_major": 2,
       "version_minor": 0
      },
      "text/plain": [
       "Downloading extra modules: 0.00B [00:00, ?B/s]"
      ]
     },
     "metadata": {},
     "output_type": "display_data"
    },
    {
     "name": "stderr",
     "output_type": "stream",
     "text": [
      "You seem to be using the pipelines sequentially on GPU. In order to maximize efficiency please use a dataset\n"
     ]
    },
    {
     "name": "stdout",
     "output_type": "stream",
     "text": [
      "EM/F1: {'exact_match': 79.0, 'f1': 86.98520923520924}\n"
     ]
    }
   ],
   "source": [
    "import evaluate\n",
    "from transformers import AutoModelForSeq2SeqLM, pipeline\n",
    "from peft import PeftModel\n",
    "\n",
    "out_dir = \"artifacts/ft/flan_t5_small_lora\"\n",
    "\n",
    "# Load base, attach LoRA adapter, then merge into a standalone model\n",
    "ft_loaded = AutoModelForSeq2SeqLM.from_pretrained(base_model)\n",
    "ft_loaded = PeftModel.from_pretrained(ft_loaded, model_id=out_dir)\n",
    "ft_loaded = ft_loaded.merge_and_unload()  # final merged weights\n",
    "\n",
    "# Simple generation pipeline for evaluation\n",
    "pipe_ft = pipeline(\n",
    "    \"text2text-generation\",\n",
    "    model=ft_loaded,\n",
    "    tokenizer=tok,\n",
    "    max_new_tokens=64,\n",
    "    device=0 if torch.cuda.is_available() else -1\n",
    ")\n",
    "\n",
    "# Quick EM/F1 on a small subset\n",
    "metric = evaluate.load(\"squad\")\n",
    "preds, refs = [], []\n",
    "n = min(100, len(ds_ev))\n",
    "\n",
    "for ex in ds_ev.select(range(n)):\n",
    "    prompt = (\n",
    "        \"Use the context to answer concisely.\\n\"\n",
    "        f\"Context: {ex['context']}\\n\"\n",
    "        f\"Question: {ex['question']}\\n\"\n",
    "        \"Answer:\"\n",
    "    )\n",
    "    pred = pipe_ft(prompt)[0][\"generated_text\"].strip()\n",
    "    golds = ex[\"answers\"][\"text\"] if ex[\"answers\"][\"text\"] else [\"\"]\n",
    "\n",
    "    preds.append({\"id\": ex[\"id\"], \"prediction_text\": pred})\n",
    "    refs.append({\n",
    "        \"id\": ex[\"id\"],\n",
    "        \"answers\": {\n",
    "            \"text\": golds,\n",
    "            \"answer_start\": ex[\"answers\"][\"answer_start\"]\n",
    "        }\n",
    "    })\n",
    "\n",
    "scores = metric.compute(predictions=preds, references=refs)\n",
    "print(\"EM/F1:\", scores)"
   ]
  },
  {
   "cell_type": "markdown",
   "id": "P2_YwJE4NtWE",
   "metadata": {
    "id": "P2_YwJE4NtWE"
   },
   "source": [
    "### 8) Plug FT model into RAG and compare to Gemini"
   ]
  },
  {
   "cell_type": "code",
   "execution_count": 13,
   "id": "tO0_Fa3nNtWE",
   "metadata": {},
   "outputs": [
    {
     "name": "stdout",
     "output_type": "stream",
     "text": [
      "\n",
      "=== RAG Comparison: Gemini vs Fine-tuned FLAN-T5 ===\n"
     ]
    },
    {
     "name": "stderr",
     "output_type": "stream",
     "text": [
      "Token indices sequence length is longer than the specified maximum sequence length for this model (635 > 512). Running this sequence through the model will result in indexing errors\n"
     ]
    },
    {
     "name": "stdout",
     "output_type": "stream",
     "text": [
      "\n",
      "[Gemini] Q: State what VRR checks for in the Trust-Game paper, in one line.\n",
      "A: VRR checks the percentage of valid responses given by different LLMs in the Trust Game.\n",
      "Sources: ['data/NeurIPS-2024-can-large-language-model-agents-simulate-human-trust-behavior-Paper-Conference.pdf', 'data/NeurIPS-2024-can-large-language-model-agents-simulate-human-trust-behavior-Paper-Conference.pdf', 'data/NeurIPS-2024-can-large-language-model-agents-simulate-human-trust-behavior-Paper-Conference.pdf']\n",
      "\n",
      "[FT-FLAN] Q: State what VRR checks for in the Trust-Game paper, in one line.\n",
      "A: LLM agents manifest trust be- havior by letting LLM agents play the Trust Game (Section 2.1 Game 1). In Behavioral Economics, trust is widely measured by the initial amount sent from the trustor to the trustee in the Trust Game (Glaeser et\n",
      "Sources: ['data/NeurIPS-2024-can-large-language-model-agents-simulate-human-trust-behavior-Paper-Conference.pdf', 'data/NeurIPS-2024-can-large-language-model-agents-simulate-human-trust-behavior-Paper-Conference.pdf', 'data/NeurIPS-2024-can-large-language-model-agents-simulate-human-trust-behavior-Paper-Conference.pdf']\n",
      "\n",
      "[Gemini] Q: Name the four stages of MDAgents in exact order.\n",
      "A: The four stages of MDAgents are: 1) Medical complexity check; 2) Recruitment based on medical complexity; 3) Analysis and synthesis; 4) Final decision-making.\n",
      "Sources: ['data/NeurIPS-2024-mdagents-an-adaptive-collaboration-of-llms-for-medical-decision-making-Paper-Conference.pdf', 'data/NeurIPS-2024-mdagents-an-adaptive-collaboration-of-llms-for-medical-decision-making-Paper-Conference.pdf', 'data/NeurIPS-2024-mdagents-an-adaptive-collaboration-of-llms-for-medical-decision-making-Paper-Conference.pdf']\n",
      "\n",
      "[FT-FLAN] Q: Name the four stages of MDAgents in exact order.\n",
      "A: 3) Analysis and Synthesis - Solo queries use prompting techniques like Chain-of-Thought (CoT) and Self-Consistency (SC). MDTs involve multiple LLM agents forming a consensus, while ICTs synthesize information for the most complex cases.\n",
      "Sources: ['data/NeurIPS-2024-mdagents-an-adaptive-collaboration-of-llms-for-medical-decision-making-Paper-Conference.pdf', 'data/NeurIPS-2024-mdagents-an-adaptive-collaboration-of-llms-for-medical-decision-making-Paper-Conference.pdf', 'data/NeurIPS-2024-mdagents-an-adaptive-collaboration-of-llms-for-medical-decision-making-Paper-Conference.pdf']\n",
      "\n",
      "[Gemini] Q: Give a one-line summary of how Richelieu self-evolves via self-play.\n",
      "A: Richelieu self-evolves by playing self-play games, augmenting its memory with the results to improve its decision-making without human annotation.\n",
      "Sources: ['data/NeurIPS-2024-richelieu-self-evolving-llm-based-agents-for-ai-diplomacy-Paper-Conference.pdf', 'data/NeurIPS-2024-richelieu-self-evolving-llm-based-agents-for-ai-diplomacy-Paper-Conference.pdf', 'data/NeurIPS-2024-richelieu-self-evolving-llm-based-agents-for-ai-diplomacy-Paper-Conference.pdf']\n",
      "\n",
      "[FT-FLAN] Q: Give a one-line summary of how Richelieu self-evolves via self-play.\n",
      "A: Self-evolution: The agent’s evolution is highly dependent on the diversity of experiences stored in its memory. As this diversity grows, so does the agent’s capability. Without human demonstrations, we employ multi-agent self-play games, i.e., our agents respectively control all the\n",
      "Sources: ['data/NeurIPS-2024-richelieu-self-evolving-llm-based-agents-for-ai-diplomacy-Paper-Conference.pdf', 'data/NeurIPS-2024-richelieu-self-evolving-llm-based-agents-for-ai-diplomacy-Paper-Conference.pdf', 'data/NeurIPS-2024-richelieu-self-evolving-llm-based-agents-for-ai-diplomacy-Paper-Conference.pdf']\n",
      "\n",
      "Saved: artifacts/ft/rag_comparison.json\n"
     ]
    }
   ],
   "source": [
    "import os, json, datetime\n",
    "from langchain.chains import RetrievalQA\n",
    "from langchain.llms.huggingface_pipeline import HuggingFacePipeline\n",
    "\n",
    "# Build FT LLM wrapper and QA chain (reuse the retriever built earlier)\n",
    "llm_ft = HuggingFacePipeline(pipeline=pipe_ft)\n",
    "qa_ft = RetrievalQA.from_chain_type(\n",
    "    llm=llm_ft, chain_type=\"stuff\", retriever=retriever, return_source_documents=True\n",
    ")\n",
    "\n",
    "# Ensure we have a Gemini chain; if not created earlier, create it now\n",
    "try:\n",
    "    qa_gemini\n",
    "except NameError:\n",
    "    from langchain_google_genai import ChatGoogleGenerativeAI\n",
    "    llm_gemini = ChatGoogleGenerativeAI(\n",
    "        model=\"gemini-1.5-flash\",\n",
    "        temperature=0.2,\n",
    "        api_key=os.environ.get(\"GOOGLE_API_KEY\", \"\")\n",
    "    )\n",
    "    qa_gemini = RetrievalQA.from_chain_type(\n",
    "        llm=llm_gemini, chain_type=\"stuff\", retriever=retriever, return_source_documents=True\n",
    "    )\n",
    "\n",
    "# Short, paper-specific questions (feel free to tweak)\n",
    "qs = [\n",
    "    \"State what VRR checks for in the Trust-Game paper, in one line.\",\n",
    "    \"Name the four stages of MDAgents in exact order.\",\n",
    "    \"Give a one-line summary of how Richelieu self-evolves via self-play.\"\n",
    "]\n",
    "\n",
    "def run_and_show(qa_chain, label, q):\n",
    "    r = qa_chain.invoke({\"query\": q})\n",
    "    ans = r.get(\"result\", \"\").strip()\n",
    "    srcs = [d.metadata.get(\"source\", \"?\") for d in r.get(\"source_documents\", [])[:3]]\n",
    "    print(f\"\\n[{label}] Q: {q}\\nA: {ans}\\nSources: {srcs}\")\n",
    "    return {\"answer\": ans, \"sources\": srcs}\n",
    "\n",
    "# Compare and capture results\n",
    "comparison = {\"timestamp\": datetime.datetime.now().isoformat(), \"questions\": []}\n",
    "print(\"\\n=== RAG Comparison: Gemini vs Fine-tuned FLAN-T5 ===\")\n",
    "for q in qs:\n",
    "    gem = run_and_show(qa_gemini, \"Gemini\", q)\n",
    "    ft  = run_and_show(qa_ft,     \"FT-FLAN\", q)\n",
    "    comparison[\"questions\"].append({\"q\": q, \"gemini\": gem, \"ft_flan\": ft})\n",
    "\n",
    "# Save a record for your write-up\n",
    "os.makedirs(\"artifacts/ft\", exist_ok=True)\n",
    "with open(\"artifacts/ft/rag_comparison.json\", \"w\") as f:\n",
    "    json.dump(comparison, f, indent=2)\n",
    "print(\"\\nSaved: artifacts/ft/rag_comparison.json\")"
   ]
  },
  {
   "cell_type": "markdown",
   "id": "3Oczra8zNtWF",
   "metadata": {
    "id": "3Oczra8zNtWF"
   },
   "source": [
    "### 9) Save/Update configs"
   ]
  },
  {
   "cell_type": "code",
   "execution_count": 14,
   "id": "6R5ekCMeNtWF",
   "metadata": {},
   "outputs": [
    {
     "name": "stdout",
     "output_type": "stream",
     "text": [
      "{\n",
      "  \"timestamp\": \"2025-09-19T04:58:34.335655\",\n",
      "  \"files_used\": [\n",
      "    {\n",
      "      \"name\": \"NeurIPS-2024-can-large-language-model-agents-simulate-human-trust-behavior-Paper-Conference.pdf\",\n",
      "      \"bytes\": 5121261,\n",
      "      \"sha256\": \"a729dec371ccdf5705d89915d720271d1bdd35a1cf3998c7db65db8891c51140\"\n",
      "    },\n",
      "    {\n",
      "      \"name\": \"NeurIPS-2024-richelieu-self-evolving-llm-based-agents-for-ai-diplomacy-Paper-Conference.pdf\",\n",
      "      \"bytes\": 2331306,\n",
      "      \"sha256\": \"74788fa9a33b3926aac6d275ae299e61cec918abc6525a42baeb56eb5204b53c\"\n",
      "    },\n",
      "    {\n",
      "      \"name\": \"NeurIPS-2024-mdagents-an-adaptive-collaboration-of-llms-for-medical-decision-making-Paper-Conference.pdf\",\n",
      "      \"bytes\": 7320523,\n",
      "      \"sha256\": \"ee5165fd72486bef7039a6810b29d3f9e852c06bb27e9b1048533fa250f53887\"\n",
      "    }\n",
      "  ],\n",
      "  \"chunk_settings_tested\": [\n",
      "    {\n",
      "      \"chunk_size\": 500,\n",
      "      \"chunk_overlap\": 100\n",
      "    },\n",
      "    {\n",
      "      \"chunk_size\": 300,\n",
      "      \"chunk_overlap\": 50\n",
      "    }\n",
      "  ],\n",
      "  \"embedding_models_tested\": [\n",
      "    \"sentence-transformers/all-MiniLM-L6-v2\"\n",
      "  ],\n",
      "  \"vectorstores\": [\n",
      "    \"chroma_minilm\",\n",
      "    \"chroma_minilm_small\"\n",
      "  ],\n",
      "  \"llm\": {\n",
      "    \"providers\": [\n",
      "      \"google-genai\",\n",
      "      \"hf-local\"\n",
      "    ],\n",
      "    \"models\": [\n",
      "      \"gemini-1.5-flash\",\n",
      "      \"google/flan-t5-small (LoRA)\"\n",
      "    ]\n",
      "  },\n",
      "  \"retriever_k\": 4,\n",
      "  \"finetune\": {\n",
      "    \"base_model\": \"google/flan-t5-small\",\n",
      "    \"adapter_dir\": \"artifacts/ft/flan_t5_small_lora\",\n",
      "    \"dataset\": \"squad\",\n",
      "    \"train_n\": 800,\n",
      "    \"eval_n\": 200,\n",
      "    \"seed\": 42\n",
      "  },\n",
      "  \"comparison_log\": \"artifacts/ft/rag_comparison.json\"\n",
      "}\n",
      "\n",
      "Saved: rag_run_config.json\n"
     ]
    }
   ],
   "source": [
    "import os, json, hashlib, datetime\n",
    "\n",
    "def file_info(path):\n",
    "    with open(path, \"rb\") as f:\n",
    "        b = f.read()\n",
    "    return {\n",
    "        \"name\": os.path.basename(path),\n",
    "        \"bytes\": len(b),\n",
    "        \"sha256\": hashlib.sha256(b).hexdigest()\n",
    "    }\n",
    "\n",
    "# Record all files in data/ (PDFs/TXTs you uploaded)\n",
    "files_used = []\n",
    "if os.path.exists(\"data\"):\n",
    "    for root, _, files in os.walk(\"data\"):\n",
    "        for fname in files:\n",
    "            p = os.path.join(root, fname)\n",
    "            if os.path.isfile(p):\n",
    "                files_used.append(file_info(p))\n",
    "\n",
    "# Build final config dict\n",
    "rag_cfg = {\n",
    "  \"timestamp\": datetime.datetime.now().isoformat(),\n",
    "  \"files_used\": files_used,\n",
    "  \"chunk_settings_tested\": [\n",
    "      {\"chunk_size\": 500, \"chunk_overlap\": 100},\n",
    "      {\"chunk_size\": 300, \"chunk_overlap\": 50}\n",
    "  ],\n",
    "  \"embedding_models_tested\": [\"sentence-transformers/all-MiniLM-L6-v2\"],\n",
    "  \"vectorstores\": [d for d in [\"chroma_minilm\", \"chroma_minilm_small\"] if os.path.exists(d)],\n",
    "  \"llm\": {\n",
    "      \"providers\": [\"google-genai\", \"hf-local\"],\n",
    "      \"models\": [\"gemini-1.5-flash\", \"google/flan-t5-small (LoRA)\"]\n",
    "  },\n",
    "  \"retriever_k\": 4\n",
    "}\n",
    "\n",
    "# Include FT config if present\n",
    "if os.path.exists(\"ft_config.json\"):\n",
    "    try:\n",
    "        rag_cfg[\"finetune\"] = json.load(open(\"ft_config.json\"))\n",
    "    except Exception as e:\n",
    "        rag_cfg[\"finetune\"] = {\"error\": f\"Could not read ft_config.json: {e}\"}\n",
    "\n",
    "# Include RAG comparison path if present\n",
    "cmp_path = \"artifacts/ft/rag_comparison.json\"\n",
    "if os.path.exists(cmp_path):\n",
    "    rag_cfg[\"comparison_log\"] = cmp_path\n",
    "\n",
    "# Save rag_run_config.json\n",
    "with open(\"rag_run_config.json\", \"w\") as f:\n",
    "    json.dump(rag_cfg, f, indent=2)\n",
    "\n",
    "print(json.dumps(rag_cfg, indent=2))\n",
    "print(\"\\nSaved: rag_run_config.json\")"
   ]
  },
  {
   "cell_type": "markdown",
   "id": "7jHbJQJGNtWG",
   "metadata": {
    "id": "7jHbJQJGNtWG"
   },
   "source": [
    "### 10) Notes\n",
    "- Use GPU runtime in Colab for fine-tuning.\n",
    "- Keep keys out of version control.\n",
    "- Increase dataset size/epochs for stronger results."
   ]
  }
 ],
 "metadata": {},
 "nbformat": 4,
 "nbformat_minor": 5
}
